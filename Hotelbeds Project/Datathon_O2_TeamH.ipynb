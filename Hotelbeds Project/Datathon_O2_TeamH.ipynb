{
 "cells": [
  {
   "cell_type": "markdown",
   "metadata": {},
   "source": [
    "# Datathon - Price Anomaly Detection\n",
    "## Team H"
   ]
  },
  {
   "cell_type": "markdown",
   "metadata": {},
   "source": [
    "### Index\n",
    "\n",
    "1. Import Data  \n",
    "2. Clean Data  \n",
    "3. Feature Extraction\n",
    "4. Anomalies - Fixed rules  \n",
    "5. Data Exploration\n",
    "6. Model\n",
    "7. Submission\n",
    "    * Gaussian Enevlope - by City\n",
    "    * Gaussian Envelope - by Star Rating\n",
    "8. Alternative approaches\n",
    "    * Local Outlier Factor\n",
    "    * Isolation Forest\n",
    "    * Clustering"
   ]
  },
  {
   "cell_type": "code",
   "execution_count": 112,
   "metadata": {},
   "outputs": [],
   "source": [
    "import pandas as pd\n",
    "import numpy as np\n",
    "import seaborn as sns\n",
    "import matplotlib.pyplot as plt\n",
    "import plotly\n",
    "# import plotly.plotly as py\n",
    "import plotly.graph_objs as go\n",
    "\n",
    "from sklearn import preprocessing\n",
    "from sklearn.decomposition import PCA\n",
    "from sklearn.cluster import KMeans\n",
    "from sklearn.covariance import EllipticEnvelope\n",
    "#from pyemma import msm # not available on Kaggle Kernel\n",
    "from sklearn.ensemble import IsolationForest\n",
    "from sklearn.svm import OneClassSVM\n",
    "from sklearn.neighbors import LocalOutlierFactor\n",
    "\n",
    "%matplotlib inline"
   ]
  },
  {
   "cell_type": "code",
   "execution_count": 113,
   "metadata": {},
   "outputs": [],
   "source": [
    "def df_summary(df):\n",
    "    # intialize data frame\n",
    "    col_missing = pd.DataFrame()\n",
    "\n",
    "    # initialize columns\n",
    "    unique_list = pd.Series()\n",
    "    missing_list = pd.Series()\n",
    "    zeros_list = pd.Series()\n",
    "    #negative_list = pd.Series()\n",
    "    \n",
    "    # data frame columns\n",
    "    colnames = df.columns\n",
    "\n",
    "    # create columns with unique, null and zero countsa\n",
    "    for col in colnames:\n",
    "        unique_list = unique_list.append(pd.Series(len(df[col].unique())))\n",
    "        missing_list = missing_list.append(pd.Series(len(df[df[col].isnull()])))\n",
    "        zeros_list = zeros_list.append(pd.Series(len(df[df[col] == 0])))\n",
    "        #negative_list = negative_list.append(pd.Series(len(df[df[col] < 0])))\n",
    "\n",
    "    # put in data frame\n",
    "    col_missing = pd.DataFrame( {'unique': unique_list,\n",
    "                                 'missing': missing_list,\n",
    "                                 'zeroes': zeros_list\n",
    "                                 #'negative': negative_list\n",
    "                                })\n",
    "    \n",
    "    # row names -> features\n",
    "    col_missing.index = colnames\n",
    "    \n",
    "    # return data frame\n",
    "    return col_missing"
   ]
  },
  {
   "cell_type": "markdown",
   "metadata": {},
   "source": [
    "# 1. Import data"
   ]
  },
  {
   "cell_type": "code",
   "execution_count": 114,
   "metadata": {},
   "outputs": [],
   "source": [
    "# import data frame\n",
    "#df = pd.read_csv(\"./data/DATATHON_STU.csv\")\n",
    "df = pd.read_csv(\"./data/DATATHON_STU_NEW.csv\")\n",
    "df = df.drop(df.columns[0], axis=1)"
   ]
  },
  {
   "cell_type": "code",
   "execution_count": 115,
   "metadata": {},
   "outputs": [],
   "source": [
    "# import table with features' description\n",
    "df_info = pd.read_excel(\"./data/IEDatathon2018_DataTable.xlsx\", sheet_name = \"data\")\n",
    "df_info = df_info.drop(df_info.columns[0], axis=1)"
   ]
  },
  {
   "cell_type": "markdown",
   "metadata": {},
   "source": [
    "### Features Description Table"
   ]
  },
  {
   "cell_type": "code",
   "execution_count": 116,
   "metadata": {
    "scrolled": true
   },
   "outputs": [
    {
     "data": {
      "text/html": [
       "<div>\n",
       "<style scoped>\n",
       "    .dataframe tbody tr th:only-of-type {\n",
       "        vertical-align: middle;\n",
       "    }\n",
       "\n",
       "    .dataframe tbody tr th {\n",
       "        vertical-align: top;\n",
       "    }\n",
       "\n",
       "    .dataframe thead th {\n",
       "        text-align: right;\n",
       "    }\n",
       "</style>\n",
       "<table border=\"1\" class=\"dataframe\">\n",
       "  <thead>\n",
       "    <tr style=\"text-align: right;\">\n",
       "      <th></th>\n",
       "      <th>Field</th>\n",
       "      <th>Description</th>\n",
       "    </tr>\n",
       "  </thead>\n",
       "  <tbody>\n",
       "    <tr>\n",
       "      <th>0</th>\n",
       "      <td>hotel_hkey</td>\n",
       "      <td>hotel identifier</td>\n",
       "    </tr>\n",
       "    <tr>\n",
       "      <th>1</th>\n",
       "      <td>contract_id_hkey</td>\n",
       "      <td>contract identifier</td>\n",
       "    </tr>\n",
       "    <tr>\n",
       "      <th>2</th>\n",
       "      <td>id_hkey</td>\n",
       "      <td>booking id identifier</td>\n",
       "    </tr>\n",
       "    <tr>\n",
       "      <th>3</th>\n",
       "      <td>city_code</td>\n",
       "      <td>the code for the destination</td>\n",
       "    </tr>\n",
       "    <tr>\n",
       "      <th>4</th>\n",
       "      <td>category_room</td>\n",
       "      <td>the room class</td>\n",
       "    </tr>\n",
       "    <tr>\n",
       "      <th>5</th>\n",
       "      <td>contract_type</td>\n",
       "      <td>the style of contract for the hotel (non-refun...</td>\n",
       "    </tr>\n",
       "    <tr>\n",
       "      <th>6</th>\n",
       "      <td>room_type</td>\n",
       "      <td>the style of room (single, double, twin…)</td>\n",
       "    </tr>\n",
       "    <tr>\n",
       "      <th>7</th>\n",
       "      <td>meal_basis</td>\n",
       "      <td>the type of meal arrangement (room only, bed &amp;...</td>\n",
       "    </tr>\n",
       "    <tr>\n",
       "      <th>8</th>\n",
       "      <td>creation_date</td>\n",
       "      <td>the date of the booking (date format is YYYY-M...</td>\n",
       "    </tr>\n",
       "    <tr>\n",
       "      <th>9</th>\n",
       "      <td>arrival_date</td>\n",
       "      <td>the start of the hotel stay (date format is YY...</td>\n",
       "    </tr>\n",
       "    <tr>\n",
       "      <th>10</th>\n",
       "      <td>departure_date</td>\n",
       "      <td>the end of the hotel stay (date format is YYYY...</td>\n",
       "    </tr>\n",
       "    <tr>\n",
       "      <th>11</th>\n",
       "      <td>total_cost</td>\n",
       "      <td>total price for the booking</td>\n",
       "    </tr>\n",
       "    <tr>\n",
       "      <th>12</th>\n",
       "      <td>star_rating</td>\n",
       "      <td>a number (scale of 1-5), or a description such...</td>\n",
       "    </tr>\n",
       "    <tr>\n",
       "      <th>13</th>\n",
       "      <td>row_id</td>\n",
       "      <td>row ID</td>\n",
       "    </tr>\n",
       "  </tbody>\n",
       "</table>\n",
       "</div>"
      ],
      "text/plain": [
       "               Field                                        Description\n",
       "0         hotel_hkey                                   hotel identifier\n",
       "1   contract_id_hkey                                contract identifier\n",
       "2            id_hkey                              booking id identifier\n",
       "3          city_code                       the code for the destination\n",
       "4      category_room                                     the room class\n",
       "5      contract_type  the style of contract for the hotel (non-refun...\n",
       "6          room_type          the style of room (single, double, twin…)\n",
       "7         meal_basis  the type of meal arrangement (room only, bed &...\n",
       "8      creation_date  the date of the booking (date format is YYYY-M...\n",
       "9       arrival_date  the start of the hotel stay (date format is YY...\n",
       "10    departure_date  the end of the hotel stay (date format is YYYY...\n",
       "11        total_cost                        total price for the booking\n",
       "12       star_rating  a number (scale of 1-5), or a description such...\n",
       "13            row_id                                             row ID"
      ]
     },
     "execution_count": 116,
     "metadata": {},
     "output_type": "execute_result"
    }
   ],
   "source": [
    "df_info"
   ]
  },
  {
   "cell_type": "markdown",
   "metadata": {},
   "source": [
    "### Training Data"
   ]
  },
  {
   "cell_type": "code",
   "execution_count": 117,
   "metadata": {
    "scrolled": false
   },
   "outputs": [
    {
     "data": {
      "text/html": [
       "<div>\n",
       "<style scoped>\n",
       "    .dataframe tbody tr th:only-of-type {\n",
       "        vertical-align: middle;\n",
       "    }\n",
       "\n",
       "    .dataframe tbody tr th {\n",
       "        vertical-align: top;\n",
       "    }\n",
       "\n",
       "    .dataframe thead th {\n",
       "        text-align: right;\n",
       "    }\n",
       "</style>\n",
       "<table border=\"1\" class=\"dataframe\">\n",
       "  <thead>\n",
       "    <tr style=\"text-align: right;\">\n",
       "      <th></th>\n",
       "      <th>hotel_hkey</th>\n",
       "      <th>contract_id_hkey</th>\n",
       "      <th>id_hkey</th>\n",
       "      <th>city_code</th>\n",
       "      <th>category_room</th>\n",
       "      <th>contract_type</th>\n",
       "      <th>room_type</th>\n",
       "      <th>meal_basis</th>\n",
       "      <th>creation_date</th>\n",
       "      <th>arrival_date</th>\n",
       "      <th>departure_date</th>\n",
       "      <th>total_cost</th>\n",
       "      <th>star_rating</th>\n",
       "      <th>row_id</th>\n",
       "    </tr>\n",
       "  </thead>\n",
       "  <tbody>\n",
       "    <tr>\n",
       "      <th>0</th>\n",
       "      <td>-8311839113995541010</td>\n",
       "      <td>3308171939935307043</td>\n",
       "      <td>-6758561262332566539</td>\n",
       "      <td>1</td>\n",
       "      <td>BL-6</td>\n",
       "      <td>OPQ</td>\n",
       "      <td>APT</td>\n",
       "      <td>RO</td>\n",
       "      <td>2018-05-22</td>\n",
       "      <td>2018-06-30</td>\n",
       "      <td>2018-07-05</td>\n",
       "      <td>14192.496000</td>\n",
       "      <td>APARTMENT</td>\n",
       "      <td>0</td>\n",
       "    </tr>\n",
       "    <tr>\n",
       "      <th>1</th>\n",
       "      <td>-7782336419181110673</td>\n",
       "      <td>-3269338087318960614</td>\n",
       "      <td>-9183082468560560492</td>\n",
       "      <td>8</td>\n",
       "      <td>ST</td>\n",
       "      <td>NOR</td>\n",
       "      <td>DBT</td>\n",
       "      <td>BB</td>\n",
       "      <td>2018-05-22</td>\n",
       "      <td>2018-07-20</td>\n",
       "      <td>2018-07-24</td>\n",
       "      <td>3558.469200</td>\n",
       "      <td>1</td>\n",
       "      <td>1</td>\n",
       "    </tr>\n",
       "    <tr>\n",
       "      <th>2</th>\n",
       "      <td>-8185637807857201025</td>\n",
       "      <td>-7171383991101553094</td>\n",
       "      <td>-573449065418159891</td>\n",
       "      <td>6</td>\n",
       "      <td>XX-KG-SU</td>\n",
       "      <td>NOR</td>\n",
       "      <td>DBL</td>\n",
       "      <td>RO</td>\n",
       "      <td>2018-05-22</td>\n",
       "      <td>2018-05-24</td>\n",
       "      <td>2018-05-29</td>\n",
       "      <td>17319.714354</td>\n",
       "      <td>5</td>\n",
       "      <td>2</td>\n",
       "    </tr>\n",
       "    <tr>\n",
       "      <th>3</th>\n",
       "      <td>4398388086357359587</td>\n",
       "      <td>3421074771505167982</td>\n",
       "      <td>215759992217563846</td>\n",
       "      <td>2</td>\n",
       "      <td>ST</td>\n",
       "      <td>NONE</td>\n",
       "      <td>TWN</td>\n",
       "      <td>BB</td>\n",
       "      <td>2018-05-22</td>\n",
       "      <td>2018-06-08</td>\n",
       "      <td>2018-06-11</td>\n",
       "      <td>3321.785004</td>\n",
       "      <td>3</td>\n",
       "      <td>3</td>\n",
       "    </tr>\n",
       "    <tr>\n",
       "      <th>4</th>\n",
       "      <td>-7098207282290159573</td>\n",
       "      <td>7965439627984399332</td>\n",
       "      <td>1006074091123194605</td>\n",
       "      <td>7</td>\n",
       "      <td>ST</td>\n",
       "      <td>NOR</td>\n",
       "      <td>DBT</td>\n",
       "      <td>RO</td>\n",
       "      <td>2018-05-22</td>\n",
       "      <td>2018-06-11</td>\n",
       "      <td>2018-06-14</td>\n",
       "      <td>2586.300000</td>\n",
       "      <td>3</td>\n",
       "      <td>4</td>\n",
       "    </tr>\n",
       "  </tbody>\n",
       "</table>\n",
       "</div>"
      ],
      "text/plain": [
       "            hotel_hkey     contract_id_hkey              id_hkey  city_code  \\\n",
       "0 -8311839113995541010  3308171939935307043 -6758561262332566539          1   \n",
       "1 -7782336419181110673 -3269338087318960614 -9183082468560560492          8   \n",
       "2 -8185637807857201025 -7171383991101553094  -573449065418159891          6   \n",
       "3  4398388086357359587  3421074771505167982   215759992217563846          2   \n",
       "4 -7098207282290159573  7965439627984399332  1006074091123194605          7   \n",
       "\n",
       "  category_room contract_type room_type meal_basis creation_date arrival_date  \\\n",
       "0          BL-6           OPQ       APT         RO    2018-05-22   2018-06-30   \n",
       "1            ST           NOR       DBT         BB    2018-05-22   2018-07-20   \n",
       "2      XX-KG-SU           NOR       DBL         RO    2018-05-22   2018-05-24   \n",
       "3            ST          NONE       TWN         BB    2018-05-22   2018-06-08   \n",
       "4            ST           NOR       DBT         RO    2018-05-22   2018-06-11   \n",
       "\n",
       "  departure_date    total_cost star_rating  row_id  \n",
       "0     2018-07-05  14192.496000   APARTMENT       0  \n",
       "1     2018-07-24   3558.469200           1       1  \n",
       "2     2018-05-29  17319.714354           5       2  \n",
       "3     2018-06-11   3321.785004           3       3  \n",
       "4     2018-06-14   2586.300000           3       4  "
      ]
     },
     "execution_count": 117,
     "metadata": {},
     "output_type": "execute_result"
    }
   ],
   "source": [
    "df.head()"
   ]
  },
  {
   "cell_type": "code",
   "execution_count": 118,
   "metadata": {
    "scrolled": true
   },
   "outputs": [
    {
     "name": "stdout",
     "output_type": "stream",
     "text": [
      "(899477, 14)\n"
     ]
    }
   ],
   "source": [
    "# shape\n",
    "print(df.shape)"
   ]
  },
  {
   "cell_type": "code",
   "execution_count": 119,
   "metadata": {
    "scrolled": true
   },
   "outputs": [
    {
     "data": {
      "text/html": [
       "<div>\n",
       "<style scoped>\n",
       "    .dataframe tbody tr th:only-of-type {\n",
       "        vertical-align: middle;\n",
       "    }\n",
       "\n",
       "    .dataframe tbody tr th {\n",
       "        vertical-align: top;\n",
       "    }\n",
       "\n",
       "    .dataframe thead th {\n",
       "        text-align: right;\n",
       "    }\n",
       "</style>\n",
       "<table border=\"1\" class=\"dataframe\">\n",
       "  <thead>\n",
       "    <tr style=\"text-align: right;\">\n",
       "      <th></th>\n",
       "      <th>hotel_hkey</th>\n",
       "      <th>contract_id_hkey</th>\n",
       "      <th>id_hkey</th>\n",
       "      <th>city_code</th>\n",
       "      <th>total_cost</th>\n",
       "      <th>row_id</th>\n",
       "    </tr>\n",
       "  </thead>\n",
       "  <tbody>\n",
       "    <tr>\n",
       "      <th>count</th>\n",
       "      <td>8.994770e+05</td>\n",
       "      <td>8.994770e+05</td>\n",
       "      <td>8.994770e+05</td>\n",
       "      <td>899477.000000</td>\n",
       "      <td>8.906640e+05</td>\n",
       "      <td>899477.000000</td>\n",
       "    </tr>\n",
       "    <tr>\n",
       "      <th>mean</th>\n",
       "      <td>1.083493e+16</td>\n",
       "      <td>4.711366e+17</td>\n",
       "      <td>-6.230768e+15</td>\n",
       "      <td>4.121188</td>\n",
       "      <td>5.943849e+03</td>\n",
       "      <td>449738.000000</td>\n",
       "    </tr>\n",
       "    <tr>\n",
       "      <th>std</th>\n",
       "      <td>5.235064e+18</td>\n",
       "      <td>5.051348e+18</td>\n",
       "      <td>5.324098e+18</td>\n",
       "      <td>2.662908</td>\n",
       "      <td>4.351145e+04</td>\n",
       "      <td>259656.788376</td>\n",
       "    </tr>\n",
       "    <tr>\n",
       "      <th>min</th>\n",
       "      <td>-9.221152e+18</td>\n",
       "      <td>-9.223151e+18</td>\n",
       "      <td>-9.223361e+18</td>\n",
       "      <td>0.000000</td>\n",
       "      <td>-8.388000e+03</td>\n",
       "      <td>0.000000</td>\n",
       "    </tr>\n",
       "    <tr>\n",
       "      <th>25%</th>\n",
       "      <td>-4.536184e+18</td>\n",
       "      <td>-3.916437e+18</td>\n",
       "      <td>-4.623797e+18</td>\n",
       "      <td>2.000000</td>\n",
       "      <td>1.485651e+03</td>\n",
       "      <td>224869.000000</td>\n",
       "    </tr>\n",
       "    <tr>\n",
       "      <th>50%</th>\n",
       "      <td>2.100855e+17</td>\n",
       "      <td>1.532957e+18</td>\n",
       "      <td>-3.724238e+15</td>\n",
       "      <td>4.000000</td>\n",
       "      <td>3.462566e+03</td>\n",
       "      <td>449738.000000</td>\n",
       "    </tr>\n",
       "    <tr>\n",
       "      <th>75%</th>\n",
       "      <td>4.412958e+18</td>\n",
       "      <td>3.746794e+18</td>\n",
       "      <td>4.602796e+18</td>\n",
       "      <td>7.000000</td>\n",
       "      <td>7.339500e+03</td>\n",
       "      <td>674607.000000</td>\n",
       "    </tr>\n",
       "    <tr>\n",
       "      <th>max</th>\n",
       "      <td>9.220866e+18</td>\n",
       "      <td>9.222155e+18</td>\n",
       "      <td>9.223327e+18</td>\n",
       "      <td>8.000000</td>\n",
       "      <td>3.553954e+07</td>\n",
       "      <td>899476.000000</td>\n",
       "    </tr>\n",
       "  </tbody>\n",
       "</table>\n",
       "</div>"
      ],
      "text/plain": [
       "         hotel_hkey  contract_id_hkey       id_hkey      city_code  \\\n",
       "count  8.994770e+05      8.994770e+05  8.994770e+05  899477.000000   \n",
       "mean   1.083493e+16      4.711366e+17 -6.230768e+15       4.121188   \n",
       "std    5.235064e+18      5.051348e+18  5.324098e+18       2.662908   \n",
       "min   -9.221152e+18     -9.223151e+18 -9.223361e+18       0.000000   \n",
       "25%   -4.536184e+18     -3.916437e+18 -4.623797e+18       2.000000   \n",
       "50%    2.100855e+17      1.532957e+18 -3.724238e+15       4.000000   \n",
       "75%    4.412958e+18      3.746794e+18  4.602796e+18       7.000000   \n",
       "max    9.220866e+18      9.222155e+18  9.223327e+18       8.000000   \n",
       "\n",
       "         total_cost         row_id  \n",
       "count  8.906640e+05  899477.000000  \n",
       "mean   5.943849e+03  449738.000000  \n",
       "std    4.351145e+04  259656.788376  \n",
       "min   -8.388000e+03       0.000000  \n",
       "25%    1.485651e+03  224869.000000  \n",
       "50%    3.462566e+03  449738.000000  \n",
       "75%    7.339500e+03  674607.000000  \n",
       "max    3.553954e+07  899476.000000  "
      ]
     },
     "execution_count": 119,
     "metadata": {},
     "output_type": "execute_result"
    }
   ],
   "source": [
    "# summary of features\n",
    "df.describe()"
   ]
  },
  {
   "cell_type": "markdown",
   "metadata": {},
   "source": [
    "From the summary function - `df_summary` - previously defined, we print the number of *missing*, *unique* and *zero* values.  \n",
    "* The only *missing* values belong to `total_cost`, which we will further analyze.  \n",
    "* There are 9 cities visible from `city_code` unique values and surprisingly `category_room` has 1320 different levels. It's possible to see how many days are in the dataset from the three dates columns.  \n",
    "* Zero values are not a worning for any of the features"
   ]
  },
  {
   "cell_type": "code",
   "execution_count": 120,
   "metadata": {
    "scrolled": false
   },
   "outputs": [
    {
     "data": {
      "text/html": [
       "<div>\n",
       "<style scoped>\n",
       "    .dataframe tbody tr th:only-of-type {\n",
       "        vertical-align: middle;\n",
       "    }\n",
       "\n",
       "    .dataframe tbody tr th {\n",
       "        vertical-align: top;\n",
       "    }\n",
       "\n",
       "    .dataframe thead th {\n",
       "        text-align: right;\n",
       "    }\n",
       "</style>\n",
       "<table border=\"1\" class=\"dataframe\">\n",
       "  <thead>\n",
       "    <tr style=\"text-align: right;\">\n",
       "      <th></th>\n",
       "      <th>missing</th>\n",
       "      <th>unique</th>\n",
       "      <th>zeroes</th>\n",
       "    </tr>\n",
       "  </thead>\n",
       "  <tbody>\n",
       "    <tr>\n",
       "      <th>hotel_hkey</th>\n",
       "      <td>0</td>\n",
       "      <td>6366</td>\n",
       "      <td>0</td>\n",
       "    </tr>\n",
       "    <tr>\n",
       "      <th>contract_id_hkey</th>\n",
       "      <td>0</td>\n",
       "      <td>16789</td>\n",
       "      <td>0</td>\n",
       "    </tr>\n",
       "    <tr>\n",
       "      <th>id_hkey</th>\n",
       "      <td>0</td>\n",
       "      <td>873787</td>\n",
       "      <td>0</td>\n",
       "    </tr>\n",
       "    <tr>\n",
       "      <th>city_code</th>\n",
       "      <td>0</td>\n",
       "      <td>9</td>\n",
       "      <td>75922</td>\n",
       "    </tr>\n",
       "    <tr>\n",
       "      <th>category_room</th>\n",
       "      <td>0</td>\n",
       "      <td>1320</td>\n",
       "      <td>0</td>\n",
       "    </tr>\n",
       "    <tr>\n",
       "      <th>contract_type</th>\n",
       "      <td>0</td>\n",
       "      <td>7</td>\n",
       "      <td>0</td>\n",
       "    </tr>\n",
       "    <tr>\n",
       "      <th>room_type</th>\n",
       "      <td>0</td>\n",
       "      <td>24</td>\n",
       "      <td>0</td>\n",
       "    </tr>\n",
       "    <tr>\n",
       "      <th>meal_basis</th>\n",
       "      <td>0</td>\n",
       "      <td>17</td>\n",
       "      <td>0</td>\n",
       "    </tr>\n",
       "    <tr>\n",
       "      <th>creation_date</th>\n",
       "      <td>0</td>\n",
       "      <td>176</td>\n",
       "      <td>0</td>\n",
       "    </tr>\n",
       "    <tr>\n",
       "      <th>arrival_date</th>\n",
       "      <td>0</td>\n",
       "      <td>701</td>\n",
       "      <td>0</td>\n",
       "    </tr>\n",
       "    <tr>\n",
       "      <th>departure_date</th>\n",
       "      <td>0</td>\n",
       "      <td>703</td>\n",
       "      <td>0</td>\n",
       "    </tr>\n",
       "    <tr>\n",
       "      <th>total_cost</th>\n",
       "      <td>8813</td>\n",
       "      <td>396655</td>\n",
       "      <td>3</td>\n",
       "    </tr>\n",
       "    <tr>\n",
       "      <th>star_rating</th>\n",
       "      <td>0</td>\n",
       "      <td>22</td>\n",
       "      <td>0</td>\n",
       "    </tr>\n",
       "    <tr>\n",
       "      <th>row_id</th>\n",
       "      <td>0</td>\n",
       "      <td>899477</td>\n",
       "      <td>1</td>\n",
       "    </tr>\n",
       "  </tbody>\n",
       "</table>\n",
       "</div>"
      ],
      "text/plain": [
       "                  missing  unique  zeroes\n",
       "hotel_hkey              0    6366       0\n",
       "contract_id_hkey        0   16789       0\n",
       "id_hkey                 0  873787       0\n",
       "city_code               0       9   75922\n",
       "category_room           0    1320       0\n",
       "contract_type           0       7       0\n",
       "room_type               0      24       0\n",
       "meal_basis              0      17       0\n",
       "creation_date           0     176       0\n",
       "arrival_date            0     701       0\n",
       "departure_date          0     703       0\n",
       "total_cost           8813  396655       3\n",
       "star_rating             0      22       0\n",
       "row_id                  0  899477       1"
      ]
     },
     "execution_count": 120,
     "metadata": {},
     "output_type": "execute_result"
    }
   ],
   "source": [
    "df_summary(df)"
   ]
  },
  {
   "cell_type": "code",
   "execution_count": 121,
   "metadata": {},
   "outputs": [],
   "source": [
    "# convert date columns to datetime type\n",
    "df['creation_date'] = pd.to_datetime(df.creation_date)\n",
    "df['arrival_date'] = pd.to_datetime(df.arrival_date)\n",
    "df['departure_date'] = pd.to_datetime(df.departure_date)"
   ]
  },
  {
   "cell_type": "code",
   "execution_count": 122,
   "metadata": {},
   "outputs": [
    {
     "name": "stdout",
     "output_type": "stream",
     "text": [
      "<class 'pandas.core.frame.DataFrame'>\n",
      "RangeIndex: 899477 entries, 0 to 899476\n",
      "Data columns (total 14 columns):\n",
      "hotel_hkey          899477 non-null int64\n",
      "contract_id_hkey    899477 non-null int64\n",
      "id_hkey             899477 non-null int64\n",
      "city_code           899477 non-null int64\n",
      "category_room       899477 non-null object\n",
      "contract_type       899477 non-null object\n",
      "room_type           899477 non-null object\n",
      "meal_basis          899477 non-null object\n",
      "creation_date       899477 non-null datetime64[ns]\n",
      "arrival_date        899477 non-null datetime64[ns]\n",
      "departure_date      899477 non-null datetime64[ns]\n",
      "total_cost          890664 non-null float64\n",
      "star_rating         899477 non-null object\n",
      "row_id              899477 non-null int64\n",
      "dtypes: datetime64[ns](3), float64(1), int64(5), object(5)\n",
      "memory usage: 96.1+ MB\n",
      "None\n"
     ]
    }
   ],
   "source": [
    "# print varaibles information\n",
    "print(df.info())"
   ]
  },
  {
   "cell_type": "markdown",
   "metadata": {},
   "source": [
    "# 2. Clean Data"
   ]
  },
  {
   "cell_type": "markdown",
   "metadata": {},
   "source": [
    "### NAs"
   ]
  },
  {
   "cell_type": "markdown",
   "metadata": {},
   "source": [
    "The only `NA` values are present in the `total_cost` variable. Analyzing the data, we found out that the majority of them are related to duplicated rows that appear when a customer booked two or more identical rooms in the same session."
   ]
  },
  {
   "cell_type": "code",
   "execution_count": 123,
   "metadata": {
    "scrolled": true
   },
   "outputs": [
    {
     "data": {
      "text/plain": [
       "hotel_hkey             0\n",
       "contract_id_hkey       0\n",
       "id_hkey                0\n",
       "city_code              0\n",
       "category_room          0\n",
       "contract_type          0\n",
       "room_type              0\n",
       "meal_basis             0\n",
       "creation_date          0\n",
       "arrival_date           0\n",
       "departure_date         0\n",
       "total_cost          8813\n",
       "star_rating            0\n",
       "row_id                 0\n",
       "dtype: int64"
      ]
     },
     "execution_count": 123,
     "metadata": {},
     "output_type": "execute_result"
    }
   ],
   "source": [
    "# drop rows that still have NAs (1)\n",
    "df.isna().sum()"
   ]
  },
  {
   "cell_type": "markdown",
   "metadata": {},
   "source": [
    "### Duplicated Values"
   ]
  },
  {
   "cell_type": "markdown",
   "metadata": {},
   "source": [
    "From the data frame with duplicated values - `df_dup` - we can see that duplicated observations are missing the `total_cost`. Since there is not a variable indicating the number of rooms per reservation, we assume that when the customer booked two (or in some cases three or more) identical rooms - i.e. families or businesses for their employees - the system collects both reservation but the price is indicated only in the first one since it would be the same in the other one(s). Hence, we can input the missing data copying the price between a set of duplicated reservations.  \n",
    "Below we declare a function - `duplicated_values` -  that replicates the price over a set of duplicated values in the `df_dup` data frame and copies the value by their index in the original data frame `df`."
   ]
  },
  {
   "cell_type": "code",
   "execution_count": 124,
   "metadata": {},
   "outputs": [],
   "source": [
    "# columns that we want to consider to search for duplicates - in this case we want all the columns to be the same\n",
    "duplicated_cols = ['id_hkey', 'hotel_hkey', 'contract_id_hkey', 'id_hkey', 'city_code', \n",
    "                   'category_room', 'contract_type', 'room_type', 'meal_basis', \n",
    "                   'creation_date', 'arrival_date', 'departure_date'\n",
    "                  ]"
   ]
  },
  {
   "cell_type": "code",
   "execution_count": 125,
   "metadata": {
    "scrolled": false
   },
   "outputs": [],
   "source": [
    "# data frame with duplicated values, we sort it by id_hkey and total_cost so that we have as first row \n",
    "# for each transaction (key) the observation with the total_cost followed by the observation(s) without it\n",
    "df_dup = df[df.duplicated(subset= duplicated_cols, keep = False)].sort_values(by=['id_hkey', 'total_cost'])"
   ]
  },
  {
   "cell_type": "code",
   "execution_count": 126,
   "metadata": {
    "scrolled": false
   },
   "outputs": [
    {
     "data": {
      "text/html": [
       "<div>\n",
       "<style scoped>\n",
       "    .dataframe tbody tr th:only-of-type {\n",
       "        vertical-align: middle;\n",
       "    }\n",
       "\n",
       "    .dataframe tbody tr th {\n",
       "        vertical-align: top;\n",
       "    }\n",
       "\n",
       "    .dataframe thead th {\n",
       "        text-align: right;\n",
       "    }\n",
       "</style>\n",
       "<table border=\"1\" class=\"dataframe\">\n",
       "  <thead>\n",
       "    <tr style=\"text-align: right;\">\n",
       "      <th></th>\n",
       "      <th>hotel_hkey</th>\n",
       "      <th>contract_id_hkey</th>\n",
       "      <th>id_hkey</th>\n",
       "      <th>city_code</th>\n",
       "      <th>category_room</th>\n",
       "      <th>contract_type</th>\n",
       "      <th>room_type</th>\n",
       "      <th>meal_basis</th>\n",
       "      <th>creation_date</th>\n",
       "      <th>arrival_date</th>\n",
       "      <th>departure_date</th>\n",
       "      <th>total_cost</th>\n",
       "      <th>star_rating</th>\n",
       "      <th>row_id</th>\n",
       "    </tr>\n",
       "  </thead>\n",
       "  <tbody>\n",
       "    <tr>\n",
       "      <th>625932</th>\n",
       "      <td>4803788277351251882</td>\n",
       "      <td>3421074771505167982</td>\n",
       "      <td>-9223092833591955833</td>\n",
       "      <td>6</td>\n",
       "      <td>ST</td>\n",
       "      <td>NONE</td>\n",
       "      <td>ROO</td>\n",
       "      <td>RO</td>\n",
       "      <td>2018-05-01</td>\n",
       "      <td>2018-05-26</td>\n",
       "      <td>2018-05-27</td>\n",
       "      <td>2694.758238</td>\n",
       "      <td>4</td>\n",
       "      <td>625932</td>\n",
       "    </tr>\n",
       "    <tr>\n",
       "      <th>881654</th>\n",
       "      <td>4803788277351251882</td>\n",
       "      <td>3421074771505167982</td>\n",
       "      <td>-9223092833591955833</td>\n",
       "      <td>6</td>\n",
       "      <td>ST</td>\n",
       "      <td>NONE</td>\n",
       "      <td>ROO</td>\n",
       "      <td>RO</td>\n",
       "      <td>2018-05-01</td>\n",
       "      <td>2018-05-26</td>\n",
       "      <td>2018-05-27</td>\n",
       "      <td>NaN</td>\n",
       "      <td>4</td>\n",
       "      <td>881654</td>\n",
       "    </tr>\n",
       "    <tr>\n",
       "      <th>13369</th>\n",
       "      <td>-6708754669226474969</td>\n",
       "      <td>3421074771505167982</td>\n",
       "      <td>-9221346839323373152</td>\n",
       "      <td>3</td>\n",
       "      <td>XX-NM</td>\n",
       "      <td>NONE</td>\n",
       "      <td>TWN</td>\n",
       "      <td>BB</td>\n",
       "      <td>2018-04-04</td>\n",
       "      <td>2018-08-15</td>\n",
       "      <td>2018-08-16</td>\n",
       "      <td>811.469100</td>\n",
       "      <td>3</td>\n",
       "      <td>13369</td>\n",
       "    </tr>\n",
       "    <tr>\n",
       "      <th>140320</th>\n",
       "      <td>-6708754669226474969</td>\n",
       "      <td>3421074771505167982</td>\n",
       "      <td>-9221346839323373152</td>\n",
       "      <td>3</td>\n",
       "      <td>XX-NM</td>\n",
       "      <td>NONE</td>\n",
       "      <td>TWN</td>\n",
       "      <td>BB</td>\n",
       "      <td>2018-04-04</td>\n",
       "      <td>2018-08-15</td>\n",
       "      <td>2018-08-16</td>\n",
       "      <td>NaN</td>\n",
       "      <td>3</td>\n",
       "      <td>140320</td>\n",
       "    </tr>\n",
       "  </tbody>\n",
       "</table>\n",
       "</div>"
      ],
      "text/plain": [
       "                 hotel_hkey     contract_id_hkey              id_hkey  \\\n",
       "625932  4803788277351251882  3421074771505167982 -9223092833591955833   \n",
       "881654  4803788277351251882  3421074771505167982 -9223092833591955833   \n",
       "13369  -6708754669226474969  3421074771505167982 -9221346839323373152   \n",
       "140320 -6708754669226474969  3421074771505167982 -9221346839323373152   \n",
       "\n",
       "        city_code category_room contract_type room_type meal_basis  \\\n",
       "625932          6            ST          NONE       ROO         RO   \n",
       "881654          6            ST          NONE       ROO         RO   \n",
       "13369           3         XX-NM          NONE       TWN         BB   \n",
       "140320          3         XX-NM          NONE       TWN         BB   \n",
       "\n",
       "       creation_date arrival_date departure_date   total_cost star_rating  \\\n",
       "625932    2018-05-01   2018-05-26     2018-05-27  2694.758238           4   \n",
       "881654    2018-05-01   2018-05-26     2018-05-27          NaN           4   \n",
       "13369     2018-04-04   2018-08-15     2018-08-16   811.469100           3   \n",
       "140320    2018-04-04   2018-08-15     2018-08-16          NaN           3   \n",
       "\n",
       "        row_id  \n",
       "625932  625932  \n",
       "881654  881654  \n",
       "13369    13369  \n",
       "140320  140320  "
      ]
     },
     "execution_count": 126,
     "metadata": {},
     "output_type": "execute_result"
    }
   ],
   "source": [
    "df_dup.head(4)"
   ]
  },
  {
   "cell_type": "code",
   "execution_count": 127,
   "metadata": {},
   "outputs": [],
   "source": [
    "def fix_duplicated_values(df):\n",
    "    # REPLICATE the price in the set of duplicated values\n",
    "    # iterate for every row in the df_dup data frame\n",
    "    for i in range(1, df_dup.shape[0], 1):\n",
    "        \n",
    "        # identify duplicated groups by the key of the previous observation\n",
    "        if df_dup.iloc[i, 2] == df_dup.iloc[i-1, 2]:\n",
    "            \n",
    "            # replace the NA value\n",
    "            df_dup.iloc[i, 11] = df_dup.iloc[i-1, 11]\n",
    "            \n",
    "    # INSERT the values in the original data frame, using the columns' index\n",
    "    for i in df_dup.index:\n",
    "        df.loc[i, \"total_cost\"] = df_dup.loc[i, \"total_cost\"]"
   ]
  },
  {
   "cell_type": "code",
   "execution_count": 128,
   "metadata": {},
   "outputs": [],
   "source": [
    "fix_duplicated_values(df)"
   ]
  },
  {
   "cell_type": "markdown",
   "metadata": {},
   "source": [
    "### Remaining NAs"
   ]
  },
  {
   "cell_type": "markdown",
   "metadata": {},
   "source": [
    "As mentioned earlier, not all (but only the majority) NAs were explained by the *duplicated* fact. The rest of the values are not explained, hence we will take care of them later."
   ]
  },
  {
   "cell_type": "code",
   "execution_count": 129,
   "metadata": {
    "scrolled": true
   },
   "outputs": [
    {
     "data": {
      "text/plain": [
       "125"
      ]
     },
     "execution_count": 129,
     "metadata": {},
     "output_type": "execute_result"
    }
   ],
   "source": [
    "df['total_cost'].isna().sum()"
   ]
  },
  {
   "cell_type": "markdown",
   "metadata": {},
   "source": [
    "# 3. Feature Extraction"
   ]
  },
  {
   "cell_type": "markdown",
   "metadata": {},
   "source": [
    "We extract relevant feartures from the columns of the data set:\n",
    "* from the `dates` we calculate the duration in days of the trip - `trip_duration` - and the number of days in advance that the trip was booked - `booking_lag`.  \n",
    "* the cost per night of the hotel booked - `price_per_night` - derived from the `total_cost` and the `trip_duration`\n",
    "* the weekday (Monday=0, Sunday=6) of the booking - `creation_date_wday`  \n",
    "* a boolean value indicating whether the trip included a weekend or not"
   ]
  },
  {
   "cell_type": "markdown",
   "metadata": {},
   "source": [
    "### New Features"
   ]
  },
  {
   "cell_type": "markdown",
   "metadata": {},
   "source": [
    "#### Trip duration & Booking lag"
   ]
  },
  {
   "cell_type": "code",
   "execution_count": 130,
   "metadata": {},
   "outputs": [],
   "source": [
    "# trip duration\n",
    "df['trip_duration'] = ((df.departure_date - df.arrival_date) / np.timedelta64(1, 'D')).astype(int)\n",
    "# booking lag\n",
    "df['booking_lag'] = ((df.arrival_date - df.creation_date) / np.timedelta64(1, 'D')).astype(int)"
   ]
  },
  {
   "cell_type": "markdown",
   "metadata": {},
   "source": [
    "#### Price per night"
   ]
  },
  {
   "cell_type": "code",
   "execution_count": 131,
   "metadata": {},
   "outputs": [],
   "source": [
    "# price per night\n",
    "df['price_per_night'] = df['total_cost'] / df['trip_duration']"
   ]
  },
  {
   "cell_type": "markdown",
   "metadata": {},
   "source": [
    "#### Booking weekday"
   ]
  },
  {
   "cell_type": "code",
   "execution_count": 132,
   "metadata": {
    "scrolled": false
   },
   "outputs": [],
   "source": [
    "# weekday of booking date\n",
    "df['creation_date_wday'] = df['creation_date'].dt.weekday"
   ]
  },
  {
   "cell_type": "code",
   "execution_count": 133,
   "metadata": {},
   "outputs": [],
   "source": [
    "df['creation_date_wday_name'] = df['creation_date'].dt.weekday_name"
   ]
  },
  {
   "cell_type": "markdown",
   "metadata": {},
   "source": [
    "#### Weekend included"
   ]
  },
  {
   "cell_type": "code",
   "execution_count": 134,
   "metadata": {},
   "outputs": [],
   "source": [
    "# initilize variable\n",
    "df['weekend_trip'] = 0\n",
    "# if the arrival date plus the duration of the trip is greater or equal to 5 it includes a weekend\n",
    "df.loc[(df['arrival_date'].dt.weekday + df['trip_duration']) >= 5, 'weekend_trip'] = 1"
   ]
  },
  {
   "cell_type": "code",
   "execution_count": 135,
   "metadata": {
    "scrolled": true
   },
   "outputs": [
    {
     "name": "stdout",
     "output_type": "stream",
     "text": [
      "Number of trips including weekends: 630429\n"
     ]
    }
   ],
   "source": [
    "print(\"Number of trips including weekends: %s\" % df[df.weekend_trip == 1]['hotel_hkey'].count())"
   ]
  },
  {
   "cell_type": "markdown",
   "metadata": {},
   "source": [
    "#### Time Epoch"
   ]
  },
  {
   "cell_type": "code",
   "execution_count": 136,
   "metadata": {},
   "outputs": [],
   "source": [
    "#Date to Numeric\n",
    "df['time_epoch'] = (df['creation_date'].astype(np.int64)/100000000000).astype(np.int64)"
   ]
  },
  {
   "cell_type": "code",
   "execution_count": 137,
   "metadata": {
    "scrolled": true
   },
   "outputs": [
    {
     "data": {
      "text/html": [
       "<div>\n",
       "<style scoped>\n",
       "    .dataframe tbody tr th:only-of-type {\n",
       "        vertical-align: middle;\n",
       "    }\n",
       "\n",
       "    .dataframe tbody tr th {\n",
       "        vertical-align: top;\n",
       "    }\n",
       "\n",
       "    .dataframe thead th {\n",
       "        text-align: right;\n",
       "    }\n",
       "</style>\n",
       "<table border=\"1\" class=\"dataframe\">\n",
       "  <thead>\n",
       "    <tr style=\"text-align: right;\">\n",
       "      <th></th>\n",
       "      <th>hotel_hkey</th>\n",
       "      <th>contract_id_hkey</th>\n",
       "      <th>id_hkey</th>\n",
       "      <th>city_code</th>\n",
       "      <th>category_room</th>\n",
       "      <th>contract_type</th>\n",
       "      <th>room_type</th>\n",
       "      <th>meal_basis</th>\n",
       "      <th>creation_date</th>\n",
       "      <th>arrival_date</th>\n",
       "      <th>...</th>\n",
       "      <th>total_cost</th>\n",
       "      <th>star_rating</th>\n",
       "      <th>row_id</th>\n",
       "      <th>trip_duration</th>\n",
       "      <th>booking_lag</th>\n",
       "      <th>price_per_night</th>\n",
       "      <th>creation_date_wday</th>\n",
       "      <th>creation_date_wday_name</th>\n",
       "      <th>weekend_trip</th>\n",
       "      <th>time_epoch</th>\n",
       "    </tr>\n",
       "  </thead>\n",
       "  <tbody>\n",
       "    <tr>\n",
       "      <th>0</th>\n",
       "      <td>-8311839113995541010</td>\n",
       "      <td>3308171939935307043</td>\n",
       "      <td>-6758561262332566539</td>\n",
       "      <td>1</td>\n",
       "      <td>BL-6</td>\n",
       "      <td>OPQ</td>\n",
       "      <td>APT</td>\n",
       "      <td>RO</td>\n",
       "      <td>2018-05-22</td>\n",
       "      <td>2018-06-30</td>\n",
       "      <td>...</td>\n",
       "      <td>14192.496000</td>\n",
       "      <td>APARTMENT</td>\n",
       "      <td>0</td>\n",
       "      <td>5</td>\n",
       "      <td>39</td>\n",
       "      <td>2838.499200</td>\n",
       "      <td>1</td>\n",
       "      <td>Tuesday</td>\n",
       "      <td>1</td>\n",
       "      <td>15269472</td>\n",
       "    </tr>\n",
       "    <tr>\n",
       "      <th>1</th>\n",
       "      <td>-7782336419181110673</td>\n",
       "      <td>-3269338087318960614</td>\n",
       "      <td>-9183082468560560492</td>\n",
       "      <td>8</td>\n",
       "      <td>ST</td>\n",
       "      <td>NOR</td>\n",
       "      <td>DBT</td>\n",
       "      <td>BB</td>\n",
       "      <td>2018-05-22</td>\n",
       "      <td>2018-07-20</td>\n",
       "      <td>...</td>\n",
       "      <td>3558.469200</td>\n",
       "      <td>1</td>\n",
       "      <td>1</td>\n",
       "      <td>4</td>\n",
       "      <td>59</td>\n",
       "      <td>889.617300</td>\n",
       "      <td>1</td>\n",
       "      <td>Tuesday</td>\n",
       "      <td>1</td>\n",
       "      <td>15269472</td>\n",
       "    </tr>\n",
       "    <tr>\n",
       "      <th>2</th>\n",
       "      <td>-8185637807857201025</td>\n",
       "      <td>-7171383991101553094</td>\n",
       "      <td>-573449065418159891</td>\n",
       "      <td>6</td>\n",
       "      <td>XX-KG-SU</td>\n",
       "      <td>NOR</td>\n",
       "      <td>DBL</td>\n",
       "      <td>RO</td>\n",
       "      <td>2018-05-22</td>\n",
       "      <td>2018-05-24</td>\n",
       "      <td>...</td>\n",
       "      <td>17319.714354</td>\n",
       "      <td>5</td>\n",
       "      <td>2</td>\n",
       "      <td>5</td>\n",
       "      <td>2</td>\n",
       "      <td>3463.942871</td>\n",
       "      <td>1</td>\n",
       "      <td>Tuesday</td>\n",
       "      <td>1</td>\n",
       "      <td>15269472</td>\n",
       "    </tr>\n",
       "    <tr>\n",
       "      <th>3</th>\n",
       "      <td>4398388086357359587</td>\n",
       "      <td>3421074771505167982</td>\n",
       "      <td>215759992217563846</td>\n",
       "      <td>2</td>\n",
       "      <td>ST</td>\n",
       "      <td>NONE</td>\n",
       "      <td>TWN</td>\n",
       "      <td>BB</td>\n",
       "      <td>2018-05-22</td>\n",
       "      <td>2018-06-08</td>\n",
       "      <td>...</td>\n",
       "      <td>3321.785004</td>\n",
       "      <td>3</td>\n",
       "      <td>3</td>\n",
       "      <td>3</td>\n",
       "      <td>17</td>\n",
       "      <td>1107.261668</td>\n",
       "      <td>1</td>\n",
       "      <td>Tuesday</td>\n",
       "      <td>1</td>\n",
       "      <td>15269472</td>\n",
       "    </tr>\n",
       "    <tr>\n",
       "      <th>4</th>\n",
       "      <td>-7098207282290159573</td>\n",
       "      <td>7965439627984399332</td>\n",
       "      <td>1006074091123194605</td>\n",
       "      <td>7</td>\n",
       "      <td>ST</td>\n",
       "      <td>NOR</td>\n",
       "      <td>DBT</td>\n",
       "      <td>RO</td>\n",
       "      <td>2018-05-22</td>\n",
       "      <td>2018-06-11</td>\n",
       "      <td>...</td>\n",
       "      <td>2586.300000</td>\n",
       "      <td>3</td>\n",
       "      <td>4</td>\n",
       "      <td>3</td>\n",
       "      <td>20</td>\n",
       "      <td>862.100000</td>\n",
       "      <td>1</td>\n",
       "      <td>Tuesday</td>\n",
       "      <td>0</td>\n",
       "      <td>15269472</td>\n",
       "    </tr>\n",
       "  </tbody>\n",
       "</table>\n",
       "<p>5 rows × 21 columns</p>\n",
       "</div>"
      ],
      "text/plain": [
       "            hotel_hkey     contract_id_hkey              id_hkey  city_code  \\\n",
       "0 -8311839113995541010  3308171939935307043 -6758561262332566539          1   \n",
       "1 -7782336419181110673 -3269338087318960614 -9183082468560560492          8   \n",
       "2 -8185637807857201025 -7171383991101553094  -573449065418159891          6   \n",
       "3  4398388086357359587  3421074771505167982   215759992217563846          2   \n",
       "4 -7098207282290159573  7965439627984399332  1006074091123194605          7   \n",
       "\n",
       "  category_room contract_type room_type meal_basis creation_date arrival_date  \\\n",
       "0          BL-6           OPQ       APT         RO    2018-05-22   2018-06-30   \n",
       "1            ST           NOR       DBT         BB    2018-05-22   2018-07-20   \n",
       "2      XX-KG-SU           NOR       DBL         RO    2018-05-22   2018-05-24   \n",
       "3            ST          NONE       TWN         BB    2018-05-22   2018-06-08   \n",
       "4            ST           NOR       DBT         RO    2018-05-22   2018-06-11   \n",
       "\n",
       "      ...        total_cost  star_rating row_id  trip_duration  booking_lag  \\\n",
       "0     ...      14192.496000    APARTMENT      0              5           39   \n",
       "1     ...       3558.469200            1      1              4           59   \n",
       "2     ...      17319.714354            5      2              5            2   \n",
       "3     ...       3321.785004            3      3              3           17   \n",
       "4     ...       2586.300000            3      4              3           20   \n",
       "\n",
       "   price_per_night  creation_date_wday  creation_date_wday_name weekend_trip  \\\n",
       "0      2838.499200                   1                  Tuesday            1   \n",
       "1       889.617300                   1                  Tuesday            1   \n",
       "2      3463.942871                   1                  Tuesday            1   \n",
       "3      1107.261668                   1                  Tuesday            1   \n",
       "4       862.100000                   1                  Tuesday            0   \n",
       "\n",
       "   time_epoch  \n",
       "0    15269472  \n",
       "1    15269472  \n",
       "2    15269472  \n",
       "3    15269472  \n",
       "4    15269472  \n",
       "\n",
       "[5 rows x 21 columns]"
      ]
     },
     "execution_count": 137,
     "metadata": {},
     "output_type": "execute_result"
    }
   ],
   "source": [
    "df.head()"
   ]
  },
  {
   "cell_type": "markdown",
   "metadata": {},
   "source": [
    "# 4. Anomalies - Fixed Rules"
   ]
  },
  {
   "cell_type": "markdown",
   "metadata": {},
   "source": [
    "We use a set of fixed rules to identify **global** anomalies:\n",
    "* `total_cost`: negative values and nulls that do not fall into the *duplicated* scenario . \n",
    "* `price_per_night`: values that are extremely high or extremely low and do not belong to the distribution. We set a threshold of respectively 60,000 and 12.  \n",
    "* `booking_lag`: some values are negative (even if impossible), we keep them because they do not affect the model and we can't infer that are related to price anomalies."
   ]
  },
  {
   "cell_type": "markdown",
   "metadata": {},
   "source": [
    "### Total Cost"
   ]
  },
  {
   "cell_type": "code",
   "execution_count": 138,
   "metadata": {},
   "outputs": [],
   "source": [
    "# initialize anomaly column - by deafault no anomalies (value = 0)\n",
    "df['anomaly'] = 0"
   ]
  },
  {
   "cell_type": "code",
   "execution_count": 139,
   "metadata": {},
   "outputs": [],
   "source": [
    "# The function classifies as anomalies total_cost observations that are negative or NA\n",
    "def total_cost_anomaly(df):\n",
    "    # NEGATIVE values\n",
    "    # print number of values\n",
    "    print(\"# negative total_cost: %s\" % df.loc[df.total_cost <= 0, \"anomaly\"].count())\n",
    "    # replace values with 1\n",
    "    df.loc[df.total_cost <= 0, \"anomaly\"] = 1\n",
    "    \n",
    "    # NA values\n",
    "    # print number of values\n",
    "    print(\"# null total_cost: %s\" % df.loc[df.total_cost.isnull(), \"anomaly\"].count())\n",
    "    # replace values with 1\n",
    "    df.loc[df.total_cost.isnull(), \"anomaly\"] = 1"
   ]
  },
  {
   "cell_type": "code",
   "execution_count": 140,
   "metadata": {
    "scrolled": true
   },
   "outputs": [
    {
     "name": "stdout",
     "output_type": "stream",
     "text": [
      "# negative total_cost: 7\n",
      "# null total_cost: 125\n"
     ]
    }
   ],
   "source": [
    "total_cost_anomaly(df)"
   ]
  },
  {
   "cell_type": "markdown",
   "metadata": {},
   "source": [
    "### Price per night"
   ]
  },
  {
   "cell_type": "code",
   "execution_count": 141,
   "metadata": {},
   "outputs": [],
   "source": [
    "# The function classifies as anomalies price_per_night observations that are over or below a defined threshold \n",
    "# the threshold is set by default to 60,000 (over) and 12 (below)\n",
    "def price_per_night_anomaly(df, over = 60000, below = 12):\n",
    "    # OVER THRESHOLD\n",
    "    # print number of values\n",
    "    print(\"# over 60,000: %s\" % df.loc[df.price_per_night >= over, \"anomaly\"].count())\n",
    "    # replace values with 1\n",
    "    df.loc[df.price_per_night >= over, \"anomaly\"] = 1\n",
    "    \n",
    "    # BELOW THRESHOLD\n",
    "    # print number of values\n",
    "    print(\"# below 12: %s\" % df.loc[df.price_per_night <= below, \"anomaly\"].count())\n",
    "    # replace values with 1\n",
    "    df.loc[df.price_per_night <= below, \"anomaly\"] = 1"
   ]
  },
  {
   "cell_type": "code",
   "execution_count": 142,
   "metadata": {
    "scrolled": true
   },
   "outputs": [
    {
     "name": "stdout",
     "output_type": "stream",
     "text": [
      "# over 60,000: 17\n",
      "# below 12: 12\n"
     ]
    }
   ],
   "source": [
    "price_per_night_anomaly(df)"
   ]
  },
  {
   "cell_type": "markdown",
   "metadata": {},
   "source": [
    "### Booking Lag"
   ]
  },
  {
   "cell_type": "markdown",
   "metadata": {},
   "source": [
    "`booking_lag` has negative values."
   ]
  },
  {
   "cell_type": "code",
   "execution_count": 143,
   "metadata": {
    "scrolled": true
   },
   "outputs": [
    {
     "data": {
      "text/plain": [
       "535"
      ]
     },
     "execution_count": 143,
     "metadata": {},
     "output_type": "execute_result"
    }
   ],
   "source": [
    "# count of negative booking lags\n",
    "df[df.booking_lag < 0]['hotel_hkey'].count()"
   ]
  },
  {
   "cell_type": "code",
   "execution_count": 144,
   "metadata": {},
   "outputs": [],
   "source": [
    "# keep values that have not negative booking lag\n",
    "#df = df[df.booking_lag >= 0]"
   ]
  },
  {
   "cell_type": "code",
   "execution_count": 145,
   "metadata": {
    "scrolled": true
   },
   "outputs": [
    {
     "data": {
      "text/plain": [
       "(899477, 22)"
      ]
     },
     "execution_count": 145,
     "metadata": {},
     "output_type": "execute_result"
    }
   ],
   "source": [
    "df.shape"
   ]
  },
  {
   "cell_type": "markdown",
   "metadata": {},
   "source": [
    "# 5. Data Exploration"
   ]
  },
  {
   "cell_type": "markdown",
   "metadata": {},
   "source": [
    "### Time period"
   ]
  },
  {
   "cell_type": "code",
   "execution_count": 146,
   "metadata": {
    "scrolled": true
   },
   "outputs": [
    {
     "name": "stdout",
     "output_type": "stream",
     "text": [
      "creation date\n",
      "2018-01-02 00:00:00\n",
      "2018-06-26 00:00:00\n",
      "175 days 00:00:00\n",
      "\n",
      "arrival date\n",
      "2016-04-23 00:00:00\n",
      "2020-06-25 00:00:00\n",
      "1524 days 00:00:00\n",
      "\n",
      "departure date\n",
      "2016-04-26 00:00:00\n",
      "2020-06-28 00:00:00\n",
      "1524 days 00:00:00\n"
     ]
    }
   ],
   "source": [
    "# creation date\n",
    "print(\"creation date\")\n",
    "print(df.creation_date.min())\n",
    "print(df.creation_date.max())\n",
    "print(df.creation_date.max() - df.creation_date.min())\n",
    "\n",
    "print()\n",
    "\n",
    "# arrival date\n",
    "print(\"arrival date\")\n",
    "print(df.arrival_date.min())\n",
    "print(df.arrival_date.max())\n",
    "print(df.arrival_date.max() - df.arrival_date.min())\n",
    "\n",
    "print()\n",
    "\n",
    "# arrival date\n",
    "print(\"departure date\")\n",
    "print(df.departure_date.min())\n",
    "print(df.departure_date.max())\n",
    "print(df.departure_date.max() - df.departure_date.min())"
   ]
  },
  {
   "cell_type": "code",
   "execution_count": 147,
   "metadata": {
    "scrolled": false
   },
   "outputs": [
    {
     "data": {
      "text/html": [
       "<div>\n",
       "<style scoped>\n",
       "    .dataframe tbody tr th:only-of-type {\n",
       "        vertical-align: middle;\n",
       "    }\n",
       "\n",
       "    .dataframe tbody tr th {\n",
       "        vertical-align: top;\n",
       "    }\n",
       "\n",
       "    .dataframe thead th {\n",
       "        text-align: right;\n",
       "    }\n",
       "</style>\n",
       "<table border=\"1\" class=\"dataframe\">\n",
       "  <thead>\n",
       "    <tr style=\"text-align: right;\">\n",
       "      <th></th>\n",
       "      <th>hotel_hkey</th>\n",
       "      <th>contract_id_hkey</th>\n",
       "      <th>id_hkey</th>\n",
       "      <th>city_code</th>\n",
       "      <th>total_cost</th>\n",
       "      <th>row_id</th>\n",
       "      <th>trip_duration</th>\n",
       "      <th>booking_lag</th>\n",
       "      <th>price_per_night</th>\n",
       "      <th>creation_date_wday</th>\n",
       "      <th>weekend_trip</th>\n",
       "      <th>time_epoch</th>\n",
       "      <th>anomaly</th>\n",
       "    </tr>\n",
       "  </thead>\n",
       "  <tbody>\n",
       "    <tr>\n",
       "      <th>count</th>\n",
       "      <td>8.994770e+05</td>\n",
       "      <td>8.994770e+05</td>\n",
       "      <td>8.994770e+05</td>\n",
       "      <td>899477.000000</td>\n",
       "      <td>8.993520e+05</td>\n",
       "      <td>899477.000000</td>\n",
       "      <td>899477.000000</td>\n",
       "      <td>899477.000000</td>\n",
       "      <td>8.993520e+05</td>\n",
       "      <td>899477.000000</td>\n",
       "      <td>899477.000000</td>\n",
       "      <td>8.994770e+05</td>\n",
       "      <td>899477.000000</td>\n",
       "    </tr>\n",
       "    <tr>\n",
       "      <th>mean</th>\n",
       "      <td>1.083493e+16</td>\n",
       "      <td>4.711366e+17</td>\n",
       "      <td>-6.230768e+15</td>\n",
       "      <td>4.121188</td>\n",
       "      <td>6.006301e+03</td>\n",
       "      <td>449738.000000</td>\n",
       "      <td>3.431818</td>\n",
       "      <td>61.139161</td>\n",
       "      <td>1.677992e+03</td>\n",
       "      <td>2.598399</td>\n",
       "      <td>0.700884</td>\n",
       "      <td>1.522349e+07</td>\n",
       "      <td>0.000171</td>\n",
       "    </tr>\n",
       "    <tr>\n",
       "      <th>std</th>\n",
       "      <td>5.235064e+18</td>\n",
       "      <td>5.051348e+18</td>\n",
       "      <td>5.324098e+18</td>\n",
       "      <td>2.662908</td>\n",
       "      <td>4.352753e+04</td>\n",
       "      <td>259656.788376</td>\n",
       "      <td>2.718066</td>\n",
       "      <td>69.355518</td>\n",
       "      <td>1.907252e+04</td>\n",
       "      <td>1.849559</td>\n",
       "      <td>0.457871</td>\n",
       "      <td>4.389034e+04</td>\n",
       "      <td>0.013084</td>\n",
       "    </tr>\n",
       "    <tr>\n",
       "      <th>min</th>\n",
       "      <td>-9.221152e+18</td>\n",
       "      <td>-9.223151e+18</td>\n",
       "      <td>-9.223361e+18</td>\n",
       "      <td>0.000000</td>\n",
       "      <td>-8.388000e+03</td>\n",
       "      <td>0.000000</td>\n",
       "      <td>1.000000</td>\n",
       "      <td>-727.000000</td>\n",
       "      <td>-4.194000e+03</td>\n",
       "      <td>0.000000</td>\n",
       "      <td>0.000000</td>\n",
       "      <td>1.514851e+07</td>\n",
       "      <td>0.000000</td>\n",
       "    </tr>\n",
       "    <tr>\n",
       "      <th>25%</th>\n",
       "      <td>-4.536184e+18</td>\n",
       "      <td>-3.916437e+18</td>\n",
       "      <td>-4.623797e+18</td>\n",
       "      <td>2.000000</td>\n",
       "      <td>1.497787e+03</td>\n",
       "      <td>224869.000000</td>\n",
       "      <td>1.000000</td>\n",
       "      <td>10.000000</td>\n",
       "      <td>7.731406e+02</td>\n",
       "      <td>1.000000</td>\n",
       "      <td>0.000000</td>\n",
       "      <td>1.518480e+07</td>\n",
       "      <td>0.000000</td>\n",
       "    </tr>\n",
       "    <tr>\n",
       "      <th>50%</th>\n",
       "      <td>2.100855e+17</td>\n",
       "      <td>1.532957e+18</td>\n",
       "      <td>-3.724238e+15</td>\n",
       "      <td>4.000000</td>\n",
       "      <td>3.486741e+03</td>\n",
       "      <td>449738.000000</td>\n",
       "      <td>3.000000</td>\n",
       "      <td>35.000000</td>\n",
       "      <td>1.285880e+03</td>\n",
       "      <td>2.000000</td>\n",
       "      <td>1.000000</td>\n",
       "      <td>1.522282e+07</td>\n",
       "      <td>0.000000</td>\n",
       "    </tr>\n",
       "    <tr>\n",
       "      <th>75%</th>\n",
       "      <td>4.412958e+18</td>\n",
       "      <td>3.746794e+18</td>\n",
       "      <td>4.602796e+18</td>\n",
       "      <td>7.000000</td>\n",
       "      <td>7.401324e+03</td>\n",
       "      <td>674607.000000</td>\n",
       "      <td>4.000000</td>\n",
       "      <td>89.000000</td>\n",
       "      <td>2.051984e+03</td>\n",
       "      <td>4.000000</td>\n",
       "      <td>1.000000</td>\n",
       "      <td>1.526170e+07</td>\n",
       "      <td>0.000000</td>\n",
       "    </tr>\n",
       "    <tr>\n",
       "      <th>max</th>\n",
       "      <td>9.220866e+18</td>\n",
       "      <td>9.222155e+18</td>\n",
       "      <td>9.223327e+18</td>\n",
       "      <td>8.000000</td>\n",
       "      <td>3.553954e+07</td>\n",
       "      <td>899476.000000</td>\n",
       "      <td>152.000000</td>\n",
       "      <td>756.000000</td>\n",
       "      <td>1.776977e+07</td>\n",
       "      <td>6.000000</td>\n",
       "      <td>1.000000</td>\n",
       "      <td>1.529971e+07</td>\n",
       "      <td>1.000000</td>\n",
       "    </tr>\n",
       "  </tbody>\n",
       "</table>\n",
       "</div>"
      ],
      "text/plain": [
       "         hotel_hkey  contract_id_hkey       id_hkey      city_code  \\\n",
       "count  8.994770e+05      8.994770e+05  8.994770e+05  899477.000000   \n",
       "mean   1.083493e+16      4.711366e+17 -6.230768e+15       4.121188   \n",
       "std    5.235064e+18      5.051348e+18  5.324098e+18       2.662908   \n",
       "min   -9.221152e+18     -9.223151e+18 -9.223361e+18       0.000000   \n",
       "25%   -4.536184e+18     -3.916437e+18 -4.623797e+18       2.000000   \n",
       "50%    2.100855e+17      1.532957e+18 -3.724238e+15       4.000000   \n",
       "75%    4.412958e+18      3.746794e+18  4.602796e+18       7.000000   \n",
       "max    9.220866e+18      9.222155e+18  9.223327e+18       8.000000   \n",
       "\n",
       "         total_cost         row_id  trip_duration    booking_lag  \\\n",
       "count  8.993520e+05  899477.000000  899477.000000  899477.000000   \n",
       "mean   6.006301e+03  449738.000000       3.431818      61.139161   \n",
       "std    4.352753e+04  259656.788376       2.718066      69.355518   \n",
       "min   -8.388000e+03       0.000000       1.000000    -727.000000   \n",
       "25%    1.497787e+03  224869.000000       1.000000      10.000000   \n",
       "50%    3.486741e+03  449738.000000       3.000000      35.000000   \n",
       "75%    7.401324e+03  674607.000000       4.000000      89.000000   \n",
       "max    3.553954e+07  899476.000000     152.000000     756.000000   \n",
       "\n",
       "       price_per_night  creation_date_wday   weekend_trip    time_epoch  \\\n",
       "count     8.993520e+05       899477.000000  899477.000000  8.994770e+05   \n",
       "mean      1.677992e+03            2.598399       0.700884  1.522349e+07   \n",
       "std       1.907252e+04            1.849559       0.457871  4.389034e+04   \n",
       "min      -4.194000e+03            0.000000       0.000000  1.514851e+07   \n",
       "25%       7.731406e+02            1.000000       0.000000  1.518480e+07   \n",
       "50%       1.285880e+03            2.000000       1.000000  1.522282e+07   \n",
       "75%       2.051984e+03            4.000000       1.000000  1.526170e+07   \n",
       "max       1.776977e+07            6.000000       1.000000  1.529971e+07   \n",
       "\n",
       "             anomaly  \n",
       "count  899477.000000  \n",
       "mean        0.000171  \n",
       "std         0.013084  \n",
       "min         0.000000  \n",
       "25%         0.000000  \n",
       "50%         0.000000  \n",
       "75%         0.000000  \n",
       "max         1.000000  "
      ]
     },
     "execution_count": 147,
     "metadata": {},
     "output_type": "execute_result"
    }
   ],
   "source": [
    "df.describe()"
   ]
  },
  {
   "cell_type": "markdown",
   "metadata": {},
   "source": [
    "### Group by"
   ]
  },
  {
   "cell_type": "markdown",
   "metadata": {},
   "source": [
    "We group by the most important variables to observe the distribution given different groupings. "
   ]
  },
  {
   "cell_type": "markdown",
   "metadata": {},
   "source": [
    "#### City code"
   ]
  },
  {
   "cell_type": "code",
   "execution_count": 149,
   "metadata": {
    "scrolled": true
   },
   "outputs": [
    {
     "data": {
      "text/html": [
       "<div>\n",
       "<style scoped>\n",
       "    .dataframe tbody tr th:only-of-type {\n",
       "        vertical-align: middle;\n",
       "    }\n",
       "\n",
       "    .dataframe tbody tr th {\n",
       "        vertical-align: top;\n",
       "    }\n",
       "\n",
       "    .dataframe thead tr th {\n",
       "        text-align: left;\n",
       "    }\n",
       "\n",
       "    .dataframe thead tr:last-of-type th {\n",
       "        text-align: right;\n",
       "    }\n",
       "</style>\n",
       "<table border=\"1\" class=\"dataframe\">\n",
       "  <thead>\n",
       "    <tr>\n",
       "      <th></th>\n",
       "      <th colspan=\"8\" halign=\"left\">price_per_night</th>\n",
       "    </tr>\n",
       "    <tr>\n",
       "      <th></th>\n",
       "      <th>count</th>\n",
       "      <th>mean</th>\n",
       "      <th>std</th>\n",
       "      <th>min</th>\n",
       "      <th>25%</th>\n",
       "      <th>50%</th>\n",
       "      <th>75%</th>\n",
       "      <th>max</th>\n",
       "    </tr>\n",
       "    <tr>\n",
       "      <th>city_code</th>\n",
       "      <th></th>\n",
       "      <th></th>\n",
       "      <th></th>\n",
       "      <th></th>\n",
       "      <th></th>\n",
       "      <th></th>\n",
       "      <th></th>\n",
       "      <th></th>\n",
       "    </tr>\n",
       "  </thead>\n",
       "  <tbody>\n",
       "    <tr>\n",
       "      <th>0</th>\n",
       "      <td>75917.0</td>\n",
       "      <td>1494.151916</td>\n",
       "      <td>64505.178981</td>\n",
       "      <td>0.054522</td>\n",
       "      <td>443.166000</td>\n",
       "      <td>805.024320</td>\n",
       "      <td>1477.126800</td>\n",
       "      <td>1.776977e+07</td>\n",
       "    </tr>\n",
       "    <tr>\n",
       "      <th>1</th>\n",
       "      <td>118097.0</td>\n",
       "      <td>1669.953245</td>\n",
       "      <td>1354.085870</td>\n",
       "      <td>11.044200</td>\n",
       "      <td>939.875400</td>\n",
       "      <td>1385.977200</td>\n",
       "      <td>1987.956000</td>\n",
       "      <td>6.284830e+04</td>\n",
       "    </tr>\n",
       "    <tr>\n",
       "      <th>2</th>\n",
       "      <td>145202.0</td>\n",
       "      <td>894.010509</td>\n",
       "      <td>901.124355</td>\n",
       "      <td>-2499.716268</td>\n",
       "      <td>396.222558</td>\n",
       "      <td>634.406808</td>\n",
       "      <td>1091.177445</td>\n",
       "      <td>2.670081e+04</td>\n",
       "    </tr>\n",
       "    <tr>\n",
       "      <th>3</th>\n",
       "      <td>58238.0</td>\n",
       "      <td>2321.024390</td>\n",
       "      <td>12730.353709</td>\n",
       "      <td>-1092.252507</td>\n",
       "      <td>1168.943292</td>\n",
       "      <td>1817.698932</td>\n",
       "      <td>2685.764100</td>\n",
       "      <td>1.894597e+06</td>\n",
       "    </tr>\n",
       "    <tr>\n",
       "      <th>4</th>\n",
       "      <td>102687.0</td>\n",
       "      <td>1846.512779</td>\n",
       "      <td>1603.997033</td>\n",
       "      <td>-3320.824578</td>\n",
       "      <td>978.284052</td>\n",
       "      <td>1411.980000</td>\n",
       "      <td>2225.766984</td>\n",
       "      <td>1.194494e+05</td>\n",
       "    </tr>\n",
       "    <tr>\n",
       "      <th>5</th>\n",
       "      <td>50127.0</td>\n",
       "      <td>1630.244621</td>\n",
       "      <td>1691.387149</td>\n",
       "      <td>131.412000</td>\n",
       "      <td>778.441350</td>\n",
       "      <td>1146.360000</td>\n",
       "      <td>1811.563350</td>\n",
       "      <td>5.850462e+04</td>\n",
       "    </tr>\n",
       "    <tr>\n",
       "      <th>6</th>\n",
       "      <td>77207.0</td>\n",
       "      <td>2596.733095</td>\n",
       "      <td>1982.038123</td>\n",
       "      <td>0.000000</td>\n",
       "      <td>1705.081884</td>\n",
       "      <td>2274.566970</td>\n",
       "      <td>3004.529524</td>\n",
       "      <td>2.720168e+05</td>\n",
       "    </tr>\n",
       "    <tr>\n",
       "      <th>7</th>\n",
       "      <td>176406.0</td>\n",
       "      <td>1833.167773</td>\n",
       "      <td>1629.034656</td>\n",
       "      <td>43.687500</td>\n",
       "      <td>995.376000</td>\n",
       "      <td>1439.940000</td>\n",
       "      <td>2158.651800</td>\n",
       "      <td>9.436500e+04</td>\n",
       "    </tr>\n",
       "    <tr>\n",
       "      <th>8</th>\n",
       "      <td>95471.0</td>\n",
       "      <td>1448.335331</td>\n",
       "      <td>1138.894439</td>\n",
       "      <td>-4194.000000</td>\n",
       "      <td>773.233800</td>\n",
       "      <td>1176.836400</td>\n",
       "      <td>1756.726800</td>\n",
       "      <td>3.588200e+04</td>\n",
       "    </tr>\n",
       "  </tbody>\n",
       "</table>\n",
       "</div>"
      ],
      "text/plain": [
       "          price_per_night                                          \\\n",
       "                    count         mean           std          min   \n",
       "city_code                                                           \n",
       "0                 75917.0  1494.151916  64505.178981     0.054522   \n",
       "1                118097.0  1669.953245   1354.085870    11.044200   \n",
       "2                145202.0   894.010509    901.124355 -2499.716268   \n",
       "3                 58238.0  2321.024390  12730.353709 -1092.252507   \n",
       "4                102687.0  1846.512779   1603.997033 -3320.824578   \n",
       "5                 50127.0  1630.244621   1691.387149   131.412000   \n",
       "6                 77207.0  2596.733095   1982.038123     0.000000   \n",
       "7                176406.0  1833.167773   1629.034656    43.687500   \n",
       "8                 95471.0  1448.335331   1138.894439 -4194.000000   \n",
       "\n",
       "                                                                \n",
       "                   25%          50%          75%           max  \n",
       "city_code                                                       \n",
       "0           443.166000   805.024320  1477.126800  1.776977e+07  \n",
       "1           939.875400  1385.977200  1987.956000  6.284830e+04  \n",
       "2           396.222558   634.406808  1091.177445  2.670081e+04  \n",
       "3          1168.943292  1817.698932  2685.764100  1.894597e+06  \n",
       "4           978.284052  1411.980000  2225.766984  1.194494e+05  \n",
       "5           778.441350  1146.360000  1811.563350  5.850462e+04  \n",
       "6          1705.081884  2274.566970  3004.529524  2.720168e+05  \n",
       "7           995.376000  1439.940000  2158.651800  9.436500e+04  \n",
       "8           773.233800  1176.836400  1756.726800  3.588200e+04  "
      ]
     },
     "execution_count": 149,
     "metadata": {},
     "output_type": "execute_result"
    }
   ],
   "source": [
    "df.groupby('city_code', as_index=True).agg({\"price_per_night\": \"describe\"})"
   ]
  },
  {
   "cell_type": "markdown",
   "metadata": {},
   "source": [
    "#### Contract type"
   ]
  },
  {
   "cell_type": "code",
   "execution_count": 151,
   "metadata": {
    "scrolled": true
   },
   "outputs": [
    {
     "data": {
      "text/html": [
       "<div>\n",
       "<style scoped>\n",
       "    .dataframe tbody tr th:only-of-type {\n",
       "        vertical-align: middle;\n",
       "    }\n",
       "\n",
       "    .dataframe tbody tr th {\n",
       "        vertical-align: top;\n",
       "    }\n",
       "\n",
       "    .dataframe thead tr th {\n",
       "        text-align: left;\n",
       "    }\n",
       "\n",
       "    .dataframe thead tr:last-of-type th {\n",
       "        text-align: right;\n",
       "    }\n",
       "</style>\n",
       "<table border=\"1\" class=\"dataframe\">\n",
       "  <thead>\n",
       "    <tr>\n",
       "      <th></th>\n",
       "      <th colspan=\"8\" halign=\"left\">price_per_night</th>\n",
       "    </tr>\n",
       "    <tr>\n",
       "      <th></th>\n",
       "      <th>count</th>\n",
       "      <th>mean</th>\n",
       "      <th>std</th>\n",
       "      <th>min</th>\n",
       "      <th>25%</th>\n",
       "      <th>50%</th>\n",
       "      <th>75%</th>\n",
       "      <th>max</th>\n",
       "    </tr>\n",
       "    <tr>\n",
       "      <th>contract_type</th>\n",
       "      <th></th>\n",
       "      <th></th>\n",
       "      <th></th>\n",
       "      <th></th>\n",
       "      <th></th>\n",
       "      <th></th>\n",
       "      <th></th>\n",
       "      <th></th>\n",
       "    </tr>\n",
       "  </thead>\n",
       "  <tbody>\n",
       "    <tr>\n",
       "      <th>NONE</th>\n",
       "      <td>121788.0</td>\n",
       "      <td>2463.660584</td>\n",
       "      <td>51018.286451</td>\n",
       "      <td>-2499.716268</td>\n",
       "      <td>1127.506222</td>\n",
       "      <td>1750.995000</td>\n",
       "      <td>2747.949936</td>\n",
       "      <td>1.776977e+07</td>\n",
       "    </tr>\n",
       "    <tr>\n",
       "      <th>NOR</th>\n",
       "      <td>494543.0</td>\n",
       "      <td>1633.228300</td>\n",
       "      <td>4407.394109</td>\n",
       "      <td>-4194.000000</td>\n",
       "      <td>775.890000</td>\n",
       "      <td>1286.160000</td>\n",
       "      <td>2049.437943</td>\n",
       "      <td>1.894597e+06</td>\n",
       "    </tr>\n",
       "    <tr>\n",
       "      <th>NRF</th>\n",
       "      <td>128821.0</td>\n",
       "      <td>1366.411041</td>\n",
       "      <td>1067.753604</td>\n",
       "      <td>-3320.824578</td>\n",
       "      <td>740.746377</td>\n",
       "      <td>1122.076041</td>\n",
       "      <td>1682.632800</td>\n",
       "      <td>4.509599e+04</td>\n",
       "    </tr>\n",
       "    <tr>\n",
       "      <th>NRF/OPQ</th>\n",
       "      <td>27099.0</td>\n",
       "      <td>1256.316346</td>\n",
       "      <td>1152.186967</td>\n",
       "      <td>4.928486</td>\n",
       "      <td>503.787707</td>\n",
       "      <td>971.080857</td>\n",
       "      <td>1595.520100</td>\n",
       "      <td>2.597794e+04</td>\n",
       "    </tr>\n",
       "    <tr>\n",
       "      <th>OPQ</th>\n",
       "      <td>123475.0</td>\n",
       "      <td>1471.790815</td>\n",
       "      <td>1399.226306</td>\n",
       "      <td>8.773988</td>\n",
       "      <td>616.232808</td>\n",
       "      <td>1130.412455</td>\n",
       "      <td>1862.136000</td>\n",
       "      <td>8.056794e+04</td>\n",
       "    </tr>\n",
       "    <tr>\n",
       "      <th>OTH</th>\n",
       "      <td>2557.0</td>\n",
       "      <td>2216.118786</td>\n",
       "      <td>2163.315405</td>\n",
       "      <td>197.169726</td>\n",
       "      <td>801.672848</td>\n",
       "      <td>1538.678743</td>\n",
       "      <td>3105.172360</td>\n",
       "      <td>3.694229e+04</td>\n",
       "    </tr>\n",
       "    <tr>\n",
       "      <th>SPE</th>\n",
       "      <td>1069.0</td>\n",
       "      <td>3645.081195</td>\n",
       "      <td>2569.912035</td>\n",
       "      <td>633.736079</td>\n",
       "      <td>2296.687524</td>\n",
       "      <td>3172.621200</td>\n",
       "      <td>4399.761834</td>\n",
       "      <td>3.419875e+04</td>\n",
       "    </tr>\n",
       "  </tbody>\n",
       "</table>\n",
       "</div>"
      ],
      "text/plain": [
       "              price_per_night                                          \\\n",
       "                        count         mean           std          min   \n",
       "contract_type                                                           \n",
       "NONE                 121788.0  2463.660584  51018.286451 -2499.716268   \n",
       "NOR                  494543.0  1633.228300   4407.394109 -4194.000000   \n",
       "NRF                  128821.0  1366.411041   1067.753604 -3320.824578   \n",
       "NRF/OPQ               27099.0  1256.316346   1152.186967     4.928486   \n",
       "OPQ                  123475.0  1471.790815   1399.226306     8.773988   \n",
       "OTH                    2557.0  2216.118786   2163.315405   197.169726   \n",
       "SPE                    1069.0  3645.081195   2569.912035   633.736079   \n",
       "\n",
       "                                                                    \n",
       "                       25%          50%          75%           max  \n",
       "contract_type                                                       \n",
       "NONE           1127.506222  1750.995000  2747.949936  1.776977e+07  \n",
       "NOR             775.890000  1286.160000  2049.437943  1.894597e+06  \n",
       "NRF             740.746377  1122.076041  1682.632800  4.509599e+04  \n",
       "NRF/OPQ         503.787707   971.080857  1595.520100  2.597794e+04  \n",
       "OPQ             616.232808  1130.412455  1862.136000  8.056794e+04  \n",
       "OTH             801.672848  1538.678743  3105.172360  3.694229e+04  \n",
       "SPE            2296.687524  3172.621200  4399.761834  3.419875e+04  "
      ]
     },
     "execution_count": 151,
     "metadata": {},
     "output_type": "execute_result"
    }
   ],
   "source": [
    "df.groupby('contract_type', as_index=True).agg({\"price_per_night\": \"describe\"})"
   ]
  },
  {
   "cell_type": "markdown",
   "metadata": {},
   "source": [
    "#### Star rating"
   ]
  },
  {
   "cell_type": "code",
   "execution_count": 152,
   "metadata": {},
   "outputs": [
    {
     "data": {
      "text/html": [
       "<div>\n",
       "<style scoped>\n",
       "    .dataframe tbody tr th:only-of-type {\n",
       "        vertical-align: middle;\n",
       "    }\n",
       "\n",
       "    .dataframe tbody tr th {\n",
       "        vertical-align: top;\n",
       "    }\n",
       "\n",
       "    .dataframe thead tr th {\n",
       "        text-align: left;\n",
       "    }\n",
       "\n",
       "    .dataframe thead tr:last-of-type th {\n",
       "        text-align: right;\n",
       "    }\n",
       "</style>\n",
       "<table border=\"1\" class=\"dataframe\">\n",
       "  <thead>\n",
       "    <tr>\n",
       "      <th></th>\n",
       "      <th colspan=\"8\" halign=\"left\">price_per_night</th>\n",
       "    </tr>\n",
       "    <tr>\n",
       "      <th></th>\n",
       "      <th>count</th>\n",
       "      <th>mean</th>\n",
       "      <th>std</th>\n",
       "      <th>min</th>\n",
       "      <th>25%</th>\n",
       "      <th>50%</th>\n",
       "      <th>75%</th>\n",
       "      <th>max</th>\n",
       "    </tr>\n",
       "    <tr>\n",
       "      <th>star_rating</th>\n",
       "      <th></th>\n",
       "      <th></th>\n",
       "      <th></th>\n",
       "      <th></th>\n",
       "      <th></th>\n",
       "      <th></th>\n",
       "      <th></th>\n",
       "      <th></th>\n",
       "    </tr>\n",
       "  </thead>\n",
       "  <tbody>\n",
       "    <tr>\n",
       "      <th>1</th>\n",
       "      <td>5630.0</td>\n",
       "      <td>787.801727</td>\n",
       "      <td>681.181073</td>\n",
       "      <td>77.169600</td>\n",
       "      <td>457.646284</td>\n",
       "      <td>650.144893</td>\n",
       "      <td>957.097013</td>\n",
       "      <td>2.074604e+04</td>\n",
       "    </tr>\n",
       "    <tr>\n",
       "      <th>2</th>\n",
       "      <td>56190.0</td>\n",
       "      <td>1022.846359</td>\n",
       "      <td>714.256205</td>\n",
       "      <td>12.861600</td>\n",
       "      <td>510.549600</td>\n",
       "      <td>881.890088</td>\n",
       "      <td>1413.553767</td>\n",
       "      <td>1.550250e+04</td>\n",
       "    </tr>\n",
       "    <tr>\n",
       "      <th>3</th>\n",
       "      <td>294940.0</td>\n",
       "      <td>1254.418452</td>\n",
       "      <td>965.695036</td>\n",
       "      <td>-3320.824578</td>\n",
       "      <td>671.040000</td>\n",
       "      <td>1062.882624</td>\n",
       "      <td>1559.768571</td>\n",
       "      <td>8.056794e+04</td>\n",
       "    </tr>\n",
       "    <tr>\n",
       "      <th>4</th>\n",
       "      <td>398098.0</td>\n",
       "      <td>1742.030268</td>\n",
       "      <td>4878.280785</td>\n",
       "      <td>12.693840</td>\n",
       "      <td>839.865276</td>\n",
       "      <td>1428.756000</td>\n",
       "      <td>2217.787200</td>\n",
       "      <td>1.894597e+06</td>\n",
       "    </tr>\n",
       "    <tr>\n",
       "      <th>5</th>\n",
       "      <td>106264.0</td>\n",
       "      <td>3104.904916</td>\n",
       "      <td>54618.011676</td>\n",
       "      <td>-4194.000000</td>\n",
       "      <td>1431.974121</td>\n",
       "      <td>2253.184560</td>\n",
       "      <td>3552.545219</td>\n",
       "      <td>1.776977e+07</td>\n",
       "    </tr>\n",
       "    <tr>\n",
       "      <th>APARTHOTEL</th>\n",
       "      <td>10035.0</td>\n",
       "      <td>1480.073684</td>\n",
       "      <td>1002.825541</td>\n",
       "      <td>48.930000</td>\n",
       "      <td>726.960000</td>\n",
       "      <td>1245.478200</td>\n",
       "      <td>1940.913300</td>\n",
       "      <td>1.239420e+04</td>\n",
       "    </tr>\n",
       "    <tr>\n",
       "      <th>APARTMENT</th>\n",
       "      <td>2099.0</td>\n",
       "      <td>2356.909640</td>\n",
       "      <td>1280.890985</td>\n",
       "      <td>406.119000</td>\n",
       "      <td>1560.168000</td>\n",
       "      <td>2151.056000</td>\n",
       "      <td>2868.369800</td>\n",
       "      <td>1.218175e+04</td>\n",
       "    </tr>\n",
       "    <tr>\n",
       "      <th>BED</th>\n",
       "      <td>103.0</td>\n",
       "      <td>1127.342415</td>\n",
       "      <td>715.066133</td>\n",
       "      <td>183.417600</td>\n",
       "      <td>771.953232</td>\n",
       "      <td>1046.512044</td>\n",
       "      <td>1359.612318</td>\n",
       "      <td>6.781698e+03</td>\n",
       "    </tr>\n",
       "    <tr>\n",
       "      <th>BOARDING</th>\n",
       "      <td>1.0</td>\n",
       "      <td>1838.929200</td>\n",
       "      <td>NaN</td>\n",
       "      <td>1838.929200</td>\n",
       "      <td>1838.929200</td>\n",
       "      <td>1838.929200</td>\n",
       "      <td>1838.929200</td>\n",
       "      <td>1.838929e+03</td>\n",
       "    </tr>\n",
       "    <tr>\n",
       "      <th>BOUTIQUE</th>\n",
       "      <td>538.0</td>\n",
       "      <td>1582.059659</td>\n",
       "      <td>1451.077632</td>\n",
       "      <td>8.773988</td>\n",
       "      <td>379.780680</td>\n",
       "      <td>1461.553080</td>\n",
       "      <td>2069.622500</td>\n",
       "      <td>1.873457e+04</td>\n",
       "    </tr>\n",
       "    <tr>\n",
       "      <th>GUEST</th>\n",
       "      <td>52.0</td>\n",
       "      <td>713.871494</td>\n",
       "      <td>562.234322</td>\n",
       "      <td>279.600000</td>\n",
       "      <td>555.705000</td>\n",
       "      <td>614.281200</td>\n",
       "      <td>671.040000</td>\n",
       "      <td>4.325692e+03</td>\n",
       "    </tr>\n",
       "    <tr>\n",
       "      <th>HOSTEL</th>\n",
       "      <td>11454.0</td>\n",
       "      <td>500.464318</td>\n",
       "      <td>497.315941</td>\n",
       "      <td>18.033102</td>\n",
       "      <td>194.891186</td>\n",
       "      <td>344.607000</td>\n",
       "      <td>624.286187</td>\n",
       "      <td>7.391925e+03</td>\n",
       "    </tr>\n",
       "    <tr>\n",
       "      <th>PENDING</th>\n",
       "      <td>3.0</td>\n",
       "      <td>522.361768</td>\n",
       "      <td>5.992681</td>\n",
       "      <td>516.893724</td>\n",
       "      <td>519.158484</td>\n",
       "      <td>521.423244</td>\n",
       "      <td>525.095790</td>\n",
       "      <td>5.287683e+02</td>\n",
       "    </tr>\n",
       "    <tr>\n",
       "      <th>POUSADA</th>\n",
       "      <td>3.0</td>\n",
       "      <td>860.745338</td>\n",
       "      <td>127.711966</td>\n",
       "      <td>721.201638</td>\n",
       "      <td>805.207458</td>\n",
       "      <td>889.213278</td>\n",
       "      <td>930.517188</td>\n",
       "      <td>9.718211e+02</td>\n",
       "    </tr>\n",
       "    <tr>\n",
       "      <th>RESIDENCE</th>\n",
       "      <td>793.0</td>\n",
       "      <td>1617.585220</td>\n",
       "      <td>1399.706016</td>\n",
       "      <td>513.765000</td>\n",
       "      <td>852.780000</td>\n",
       "      <td>1163.136000</td>\n",
       "      <td>1703.742600</td>\n",
       "      <td>1.206977e+04</td>\n",
       "    </tr>\n",
       "    <tr>\n",
       "      <th>RESORT</th>\n",
       "      <td>336.0</td>\n",
       "      <td>870.669413</td>\n",
       "      <td>710.509260</td>\n",
       "      <td>286.240500</td>\n",
       "      <td>493.085318</td>\n",
       "      <td>688.859607</td>\n",
       "      <td>1041.915420</td>\n",
       "      <td>7.977721e+03</td>\n",
       "    </tr>\n",
       "    <tr>\n",
       "      <th>RURAL</th>\n",
       "      <td>871.0</td>\n",
       "      <td>1418.094841</td>\n",
       "      <td>976.612920</td>\n",
       "      <td>233.829480</td>\n",
       "      <td>845.470457</td>\n",
       "      <td>1230.240000</td>\n",
       "      <td>1729.465800</td>\n",
       "      <td>1.906355e+04</td>\n",
       "    </tr>\n",
       "    <tr>\n",
       "      <th>STANDARD</th>\n",
       "      <td>130.0</td>\n",
       "      <td>1422.868633</td>\n",
       "      <td>434.075696</td>\n",
       "      <td>659.856000</td>\n",
       "      <td>1112.109000</td>\n",
       "      <td>1457.415000</td>\n",
       "      <td>1576.454700</td>\n",
       "      <td>3.905453e+03</td>\n",
       "    </tr>\n",
       "    <tr>\n",
       "      <th>SUPERIOR</th>\n",
       "      <td>8336.0</td>\n",
       "      <td>2140.575398</td>\n",
       "      <td>1725.563759</td>\n",
       "      <td>136.693333</td>\n",
       "      <td>1223.319900</td>\n",
       "      <td>1848.687240</td>\n",
       "      <td>2549.241350</td>\n",
       "      <td>3.371196e+04</td>\n",
       "    </tr>\n",
       "    <tr>\n",
       "      <th>VACATIONALS</th>\n",
       "      <td>84.0</td>\n",
       "      <td>2161.565849</td>\n",
       "      <td>1325.134973</td>\n",
       "      <td>640.583571</td>\n",
       "      <td>1407.401550</td>\n",
       "      <td>2007.213450</td>\n",
       "      <td>2462.127643</td>\n",
       "      <td>1.033667e+04</td>\n",
       "    </tr>\n",
       "    <tr>\n",
       "      <th>VILLA</th>\n",
       "      <td>1627.0</td>\n",
       "      <td>1855.884170</td>\n",
       "      <td>1213.748710</td>\n",
       "      <td>229.823511</td>\n",
       "      <td>1102.788534</td>\n",
       "      <td>1618.282261</td>\n",
       "      <td>2339.287380</td>\n",
       "      <td>1.174320e+04</td>\n",
       "    </tr>\n",
       "    <tr>\n",
       "      <th>WITHOUT</th>\n",
       "      <td>1765.0</td>\n",
       "      <td>1811.608817</td>\n",
       "      <td>1891.369987</td>\n",
       "      <td>-2499.716268</td>\n",
       "      <td>914.525000</td>\n",
       "      <td>1409.842458</td>\n",
       "      <td>2043.177000</td>\n",
       "      <td>2.582007e+04</td>\n",
       "    </tr>\n",
       "  </tbody>\n",
       "</table>\n",
       "</div>"
      ],
      "text/plain": [
       "            price_per_night                                          \\\n",
       "                      count         mean           std          min   \n",
       "star_rating                                                           \n",
       "1                    5630.0   787.801727    681.181073    77.169600   \n",
       "2                   56190.0  1022.846359    714.256205    12.861600   \n",
       "3                  294940.0  1254.418452    965.695036 -3320.824578   \n",
       "4                  398098.0  1742.030268   4878.280785    12.693840   \n",
       "5                  106264.0  3104.904916  54618.011676 -4194.000000   \n",
       "APARTHOTEL          10035.0  1480.073684   1002.825541    48.930000   \n",
       "APARTMENT            2099.0  2356.909640   1280.890985   406.119000   \n",
       "BED                   103.0  1127.342415    715.066133   183.417600   \n",
       "BOARDING                1.0  1838.929200           NaN  1838.929200   \n",
       "BOUTIQUE              538.0  1582.059659   1451.077632     8.773988   \n",
       "GUEST                  52.0   713.871494    562.234322   279.600000   \n",
       "HOSTEL              11454.0   500.464318    497.315941    18.033102   \n",
       "PENDING                 3.0   522.361768      5.992681   516.893724   \n",
       "POUSADA                 3.0   860.745338    127.711966   721.201638   \n",
       "RESIDENCE             793.0  1617.585220   1399.706016   513.765000   \n",
       "RESORT                336.0   870.669413    710.509260   286.240500   \n",
       "RURAL                 871.0  1418.094841    976.612920   233.829480   \n",
       "STANDARD              130.0  1422.868633    434.075696   659.856000   \n",
       "SUPERIOR             8336.0  2140.575398   1725.563759   136.693333   \n",
       "VACATIONALS            84.0  2161.565849   1325.134973   640.583571   \n",
       "VILLA                1627.0  1855.884170   1213.748710   229.823511   \n",
       "WITHOUT              1765.0  1811.608817   1891.369987 -2499.716268   \n",
       "\n",
       "                                                                  \n",
       "                     25%          50%          75%           max  \n",
       "star_rating                                                       \n",
       "1             457.646284   650.144893   957.097013  2.074604e+04  \n",
       "2             510.549600   881.890088  1413.553767  1.550250e+04  \n",
       "3             671.040000  1062.882624  1559.768571  8.056794e+04  \n",
       "4             839.865276  1428.756000  2217.787200  1.894597e+06  \n",
       "5            1431.974121  2253.184560  3552.545219  1.776977e+07  \n",
       "APARTHOTEL    726.960000  1245.478200  1940.913300  1.239420e+04  \n",
       "APARTMENT    1560.168000  2151.056000  2868.369800  1.218175e+04  \n",
       "BED           771.953232  1046.512044  1359.612318  6.781698e+03  \n",
       "BOARDING     1838.929200  1838.929200  1838.929200  1.838929e+03  \n",
       "BOUTIQUE      379.780680  1461.553080  2069.622500  1.873457e+04  \n",
       "GUEST         555.705000   614.281200   671.040000  4.325692e+03  \n",
       "HOSTEL        194.891186   344.607000   624.286187  7.391925e+03  \n",
       "PENDING       519.158484   521.423244   525.095790  5.287683e+02  \n",
       "POUSADA       805.207458   889.213278   930.517188  9.718211e+02  \n",
       "RESIDENCE     852.780000  1163.136000  1703.742600  1.206977e+04  \n",
       "RESORT        493.085318   688.859607  1041.915420  7.977721e+03  \n",
       "RURAL         845.470457  1230.240000  1729.465800  1.906355e+04  \n",
       "STANDARD     1112.109000  1457.415000  1576.454700  3.905453e+03  \n",
       "SUPERIOR     1223.319900  1848.687240  2549.241350  3.371196e+04  \n",
       "VACATIONALS  1407.401550  2007.213450  2462.127643  1.033667e+04  \n",
       "VILLA        1102.788534  1618.282261  2339.287380  1.174320e+04  \n",
       "WITHOUT       914.525000  1409.842458  2043.177000  2.582007e+04  "
      ]
     },
     "execution_count": 152,
     "metadata": {},
     "output_type": "execute_result"
    }
   ],
   "source": [
    "df.groupby('star_rating', as_index=True).agg({\"price_per_night\": \"describe\"})"
   ]
  },
  {
   "cell_type": "markdown",
   "metadata": {},
   "source": [
    "## 5.1. Plots"
   ]
  },
  {
   "cell_type": "markdown",
   "metadata": {},
   "source": [
    "### City code"
   ]
  },
  {
   "cell_type": "code",
   "execution_count": 153,
   "metadata": {
    "scrolled": false
   },
   "outputs": [
    {
     "data": {
      "image/png": "[encoded data removed]",
      "text/plain": [
       "<Figure size 1440x432 with 1 Axes>"
      ]
     },
     "metadata": {},
     "output_type": "display_data"
    }
   ],
   "source": [
    "plt.figure(figsize=(20,6))\n",
    "sns.countplot(df.city_code, hue = df.city_code)\n",
    "plt.legend(loc='upper left')\n",
    "plt.show()"
   ]
  },
  {
   "cell_type": "markdown",
   "metadata": {},
   "source": [
    "### Trip duration"
   ]
  },
  {
   "cell_type": "code",
   "execution_count": 154,
   "metadata": {
    "scrolled": true
   },
   "outputs": [
    {
     "data": {
      "image/png": "[encoded data removed]",
      "text/plain": [
       "<Figure size 1440x432 with 1 Axes>"
      ]
     },
     "metadata": {},
     "output_type": "display_data"
    }
   ],
   "source": [
    "plt.figure(figsize=(20,6))\n",
    "sns.countplot(df.trip_duration)\n",
    "plt.show()"
   ]
  },
  {
   "cell_type": "markdown",
   "metadata": {},
   "source": [
    "### Booking lag"
   ]
  },
  {
   "cell_type": "code",
   "execution_count": 155,
   "metadata": {
    "scrolled": false
   },
   "outputs": [
    {
     "data": {
      "image/png": "[encoded data removed]",
      "text/plain": [
       "<Figure size 1440x720 with 1 Axes>"
      ]
     },
     "metadata": {},
     "output_type": "display_data"
    }
   ],
   "source": [
    "plt.figure(figsize=(20,10))\n",
    "sns.countplot(df[df.booking_lag >= 0].booking_lag)\n",
    "plt.show()"
   ]
  },
  {
   "cell_type": "markdown",
   "metadata": {},
   "source": [
    "## Time-plot"
   ]
  },
  {
   "cell_type": "markdown",
   "metadata": {},
   "source": [
    "### Single"
   ]
  },
  {
   "cell_type": "code",
   "execution_count": 156,
   "metadata": {},
   "outputs": [],
   "source": [
    "def plot_single_ts(df, city_code = 0, agg_func = \"median\",value = \"price_per_night\", index = \"creation_date\"):\n",
    "    # prepare data\n",
    "    df1 = df.copy()\n",
    "    df1 = df[df.city_code == city_code]\n",
    "    df1 = df1.groupby(index, as_index=True).agg({\"price_per_night\": agg_func})\n",
    "    #df1 = df1[['price_per_night']]\n",
    "    \n",
    "    # -------- PLOTLY -------- #\n",
    "    # data\n",
    "    data = [go.Scatter(x=df1.index, y=df1.price_per_night)]\n",
    "    \n",
    "    # layout\n",
    "    layout = dict(\n",
    "    title='Time Series with Rangeslider',\n",
    "    xaxis=dict(\n",
    "        rangeselector=dict(\n",
    "            buttons=list([\n",
    "                dict(count=1,\n",
    "                     label='1m',\n",
    "                     step='month',\n",
    "                     stepmode='backward'),\n",
    "                dict(count=6,\n",
    "                     label='6m',\n",
    "                     step='month',\n",
    "                     stepmode='backward'),\n",
    "                dict(step='all')\n",
    "            ])\n",
    "        ),\n",
    "        rangeslider=dict(),\n",
    "        type='date'\n",
    "    ))\n",
    "    \n",
    "    # plot\n",
    "    return plotly.offline.plot({\"data\": data, \"layout\": layout}, auto_open=True)"
   ]
  },
  {
   "cell_type": "code",
   "execution_count": 157,
   "metadata": {},
   "outputs": [
    {
     "data": {
      "text/plain": [
       "'file:///Users/tommasocondulmari/Google Drive/DATATHON/temp-plot.html'"
      ]
     },
     "execution_count": 157,
     "metadata": {},
     "output_type": "execute_result"
    }
   ],
   "source": [
    "plot_single_ts(df,0, \"median\")"
   ]
  },
  {
   "cell_type": "markdown",
   "metadata": {},
   "source": [
    "### Multiple"
   ]
  },
  {
   "cell_type": "code",
   "execution_count": 158,
   "metadata": {},
   "outputs": [],
   "source": [
    "def plot_multi_ts(df, value = \"price_per_night\", agg_func = np.median):\n",
    "    # prepare data\n",
    "    df_pivot = df.copy()\n",
    "    df_pivot = df_pivot.pivot_table(index = 'creation_date', \n",
    "                            columns ='city_code', \n",
    "                            values = value, \n",
    "                            aggfunc = agg_func)\n",
    "    \n",
    "    # -------- PLOTLY -------- #\n",
    "    # data\n",
    "    city_0 = go.Scatter(x=df_pivot.index, y=df_pivot.iloc[:,0], name = \"0\")\n",
    "    city_1 = go.Scatter(x=df_pivot.index, y=df_pivot.iloc[:,1], name = \"1\")\n",
    "    city_2 = go.Scatter(x=df_pivot.index, y=df_pivot.iloc[:,2], name = \"2\")\n",
    "    city_3 = go.Scatter(x=df_pivot.index, y=df_pivot.iloc[:,3], name = \"3\")\n",
    "    city_4 = go.Scatter(x=df_pivot.index, y=df_pivot.iloc[:,4], name = \"4\")\n",
    "    city_5 = go.Scatter(x=df_pivot.index, y=df_pivot.iloc[:,5], name = \"5\")\n",
    "    city_6 = go.Scatter(x=df_pivot.index, y=df_pivot.iloc[:,6], name = \"6\")\n",
    "    city_7 = go.Scatter(x=df_pivot.index, y=df_pivot.iloc[:,7], name = \"7\")\n",
    "    city_8 = go.Scatter(x=df_pivot.index, y=df_pivot.iloc[:,8], name = \"8\")\n",
    "\n",
    "    data = [city_0,city_1,city_2,city_3,city_4,city_5,city_6,city_7,city_8]\n",
    "    \n",
    "    # layout\n",
    "    layout = dict(\n",
    "    title='Time Series with Rangeslider',\n",
    "    xaxis=dict(\n",
    "        rangeselector=dict(\n",
    "            buttons=list([\n",
    "                dict(count=1,\n",
    "                     label='1m',\n",
    "                     step='month',\n",
    "                     stepmode='backward'),\n",
    "                dict(count=6,\n",
    "                     label='6m',\n",
    "                     step='month',\n",
    "                     stepmode='backward'),\n",
    "                dict(step='all')\n",
    "            ])\n",
    "        ),\n",
    "        rangeslider=dict(),\n",
    "        type='date'\n",
    "    ))\n",
    "    \n",
    "    # return plot\n",
    "    return plotly.offline.plot({\"data\": data, \"layout\": layout}, auto_open=True)"
   ]
  },
  {
   "cell_type": "code",
   "execution_count": 159,
   "metadata": {
    "scrolled": false
   },
   "outputs": [
    {
     "data": {
      "text/plain": [
       "'file:///Users/tommasocondulmari/Google Drive/DATATHON/temp-plot.html'"
      ]
     },
     "execution_count": 159,
     "metadata": {},
     "output_type": "execute_result"
    }
   ],
   "source": [
    "plot_multi_ts(df[df.anomaly == 0], \"price_per_night\", np.mean)"
   ]
  },
  {
   "cell_type": "markdown",
   "metadata": {},
   "source": [
    "# 6. Model"
   ]
  },
  {
   "cell_type": "code",
   "execution_count": 211,
   "metadata": {},
   "outputs": [],
   "source": [
    "# set contamination rate to be used for all models\n",
    "outliers_fraction = 0.02"
   ]
  },
  {
   "cell_type": "code",
   "execution_count": 210,
   "metadata": {},
   "outputs": [],
   "source": [
    "df = df.drop(columns=['anomaly_gaussian_city', 'anomaly_gaussian_star_rating'])"
   ]
  },
  {
   "cell_type": "markdown",
   "metadata": {},
   "source": [
    "## 6.1 Gaussian Envelope - by City"
   ]
  },
  {
   "cell_type": "code",
   "execution_count": 212,
   "metadata": {},
   "outputs": [],
   "source": [
    "df_mod = df.copy()\n",
    "df_mod = df_mod[df_mod['anomaly'] == 0]"
   ]
  },
  {
   "cell_type": "code",
   "execution_count": 213,
   "metadata": {},
   "outputs": [],
   "source": [
    "##### creation of 9 differents data set based on city code\n",
    "df_class0 = df_mod.loc[df_mod['city_code'] == 0, 'price_per_night']\n",
    "df_class1 = df_mod.loc[df_mod['city_code'] == 1, 'price_per_night']\n",
    "df_class2 = df_mod.loc[df_mod['city_code'] == 2, 'price_per_night']\n",
    "df_class3 = df_mod.loc[df_mod['city_code'] == 3, 'price_per_night']\n",
    "df_class4 = df_mod.loc[df_mod['city_code'] == 4, 'price_per_night']\n",
    "df_class5 = df_mod.loc[df_mod['city_code'] == 5, 'price_per_night']\n",
    "df_class6 = df_mod.loc[df_mod['city_code'] == 6, 'price_per_night']\n",
    "df_class7 = df_mod.loc[df_mod['city_code'] == 7, 'price_per_night']\n",
    "df_class8 = df_mod.loc[df_mod['city_code'] == 8, 'price_per_night']"
   ]
  },
  {
   "cell_type": "code",
   "execution_count": 214,
   "metadata": {},
   "outputs": [
    {
     "data": {
      "text/plain": [
       "<matplotlib.axes._subplots.AxesSubplot at 0x1a28b4da20>"
      ]
     },
     "execution_count": 214,
     "metadata": {},
     "output_type": "execute_result"
    },
    {
     "data": {
      "image/png": "[encoded data removed]",
      "text/plain": [
       "<Figure size 1080x1080 with 9 Axes>"
      ]
     },
     "metadata": {},
     "output_type": "display_data"
    }
   ],
   "source": [
    "# plot the temperature repartition by categories\n",
    "fig, axs = plt.subplots(3,3,figsize=(15,15))\n",
    "for (m,n), subplot in np.ndenumerate(axs):\n",
    "    subplot.set_xlim([0,10000])\n",
    "    subplot.set_ylim([0,60000])\n",
    "    \n",
    "df_class0.hist(ax=axs[0,0],bins=100)\n",
    "df_class1.hist(ax=axs[0,1],bins=100)\n",
    "df_class2.hist(ax=axs[0,2],bins=100)\n",
    "df_class3.hist(ax=axs[1,0],bins=100)\n",
    "df_class4.hist(ax=axs[1,1],bins=100)\n",
    "df_class5.hist(ax=axs[1,2],bins=100)\n",
    "df_class6.hist(ax=axs[2,0],bins=100)\n",
    "df_class7.hist(ax=axs[2,1],bins=100)\n",
    "df_class8.hist(ax=axs[2,2],bins=100)"
   ]
  },
  {
   "cell_type": "code",
   "execution_count": 215,
   "metadata": {},
   "outputs": [],
   "source": [
    "# apply ellipticEnvelope(gaussian distribution) at each categories\n",
    "envelope =  EllipticEnvelope(contamination = outliers_fraction) \n",
    "X_train = df_class0.values.reshape(-1,1)\n",
    "envelope.fit(X_train)\n",
    "df_class0 = pd.DataFrame(df_class0)\n",
    "df_class0['deviation'] = envelope.decision_function(X_train)\n",
    "df_class0['anomaly'] = envelope.predict(X_train)\n",
    "\n",
    "envelope =  EllipticEnvelope(contamination = outliers_fraction) \n",
    "X_train = df_class1.values.reshape(-1,1)\n",
    "envelope.fit(X_train)\n",
    "df_class1 = pd.DataFrame(df_class1)\n",
    "df_class1['deviation'] = envelope.decision_function(X_train)\n",
    "df_class1['anomaly'] = envelope.predict(X_train)\n",
    "\n",
    "envelope =  EllipticEnvelope(contamination = outliers_fraction) \n",
    "X_train = df_class2.values.reshape(-1,1)\n",
    "envelope.fit(X_train)\n",
    "df_class2 = pd.DataFrame(df_class2)\n",
    "df_class2['deviation'] = envelope.decision_function(X_train)\n",
    "df_class2['anomaly'] = envelope.predict(X_train)\n",
    "\n",
    "envelope =  EllipticEnvelope(contamination = outliers_fraction) \n",
    "X_train = df_class3.values.reshape(-1,1)\n",
    "envelope.fit(X_train)\n",
    "df_class3 = pd.DataFrame(df_class3)\n",
    "df_class3['deviation'] = envelope.decision_function(X_train)\n",
    "df_class3['anomaly'] = envelope.predict(X_train)\n",
    "\n",
    "envelope =  EllipticEnvelope(contamination = outliers_fraction) \n",
    "X_train = df_class4.values.reshape(-1,1)\n",
    "envelope.fit(X_train)\n",
    "df_class4 = pd.DataFrame(df_class4)\n",
    "df_class4['deviation'] = envelope.decision_function(X_train)\n",
    "df_class4['anomaly'] = envelope.predict(X_train)\n",
    "\n",
    "envelope =  EllipticEnvelope(contamination = outliers_fraction) \n",
    "X_train = df_class5.values.reshape(-1,1)\n",
    "envelope.fit(X_train)\n",
    "df_class5 = pd.DataFrame(df_class5)\n",
    "df_class5['deviation'] = envelope.decision_function(X_train)\n",
    "df_class5['anomaly'] = envelope.predict(X_train)\n",
    "\n",
    "envelope =  EllipticEnvelope(contamination = outliers_fraction) \n",
    "X_train = df_class6.values.reshape(-1,1)\n",
    "envelope.fit(X_train)\n",
    "df_class6 = pd.DataFrame(df_class6)\n",
    "df_class6['deviation'] = envelope.decision_function(X_train)\n",
    "df_class6['anomaly'] = envelope.predict(X_train)\n",
    "\n",
    "envelope =  EllipticEnvelope(contamination = outliers_fraction) \n",
    "X_train = df_class7.values.reshape(-1,1)\n",
    "envelope.fit(X_train)\n",
    "df_class7 = pd.DataFrame(df_class7)\n",
    "df_class7['deviation'] = envelope.decision_function(X_train)\n",
    "df_class7['anomaly'] = envelope.predict(X_train)\n",
    "\n",
    "envelope =  EllipticEnvelope(contamination = outliers_fraction) \n",
    "X_train = df_class8.values.reshape(-1,1)\n",
    "envelope.fit(X_train)\n",
    "df_class8 = pd.DataFrame(df_class8)\n",
    "df_class8['deviation'] = envelope.decision_function(X_train)\n",
    "df_class8['anomaly'] = envelope.predict(X_train)"
   ]
  },
  {
   "cell_type": "code",
   "execution_count": 216,
   "metadata": {},
   "outputs": [],
   "source": [
    "# plot the price_per_night repartition by categories with anomalies\n",
    "a0 = df_class0.loc[df_class0['anomaly'] == 1, 'price_per_night']\n",
    "b0 = df_class0.loc[df_class0['anomaly'] == -1, 'price_per_night']\n",
    "\n",
    "a1 = df_class1.loc[df_class1['anomaly'] == 1, 'price_per_night']\n",
    "b1 = df_class1.loc[df_class1['anomaly'] == -1, 'price_per_night']\n",
    "\n",
    "a2 = df_class2.loc[df_class2['anomaly'] == 1, 'price_per_night']\n",
    "b2 = df_class2.loc[df_class2['anomaly'] == -1, 'price_per_night']\n",
    "\n",
    "a3 = df_class3.loc[df_class3['anomaly'] == 1, 'price_per_night']\n",
    "b3 = df_class3.loc[df_class3['anomaly'] == -1, 'price_per_night']\n",
    "\n",
    "a4 = df_class4.loc[df_class4['anomaly'] == 1, 'price_per_night']\n",
    "b4 = df_class4.loc[df_class4['anomaly'] == -1, 'price_per_night']\n",
    "\n",
    "a5 = df_class5.loc[df_class5['anomaly'] == 1, 'price_per_night']\n",
    "b5 = df_class5.loc[df_class5['anomaly'] == -1, 'price_per_night']\n",
    "\n",
    "a6 = df_class6.loc[df_class6['anomaly'] == 1, 'price_per_night']\n",
    "b6 = df_class6.loc[df_class6['anomaly'] == -1, 'price_per_night']\n",
    "\n",
    "a7 = df_class7.loc[df_class7['anomaly'] == 1, 'price_per_night']\n",
    "b7 = df_class7.loc[df_class7['anomaly'] == -1, 'price_per_night']\n",
    "\n",
    "a8 = df_class8.loc[df_class8['anomaly'] == 1, 'price_per_night']\n",
    "b8 = df_class8.loc[df_class8['anomaly'] == -1, 'price_per_night']"
   ]
  },
  {
   "cell_type": "code",
   "execution_count": 217,
   "metadata": {},
   "outputs": [
    {
     "name": "stderr",
     "output_type": "stream",
     "text": [
      "/Users/tommasocondulmari/anaconda3/lib/python3.6/site-packages/numpy/core/fromnumeric.py:52: FutureWarning:\n",
      "\n",
      "reshape is deprecated and will raise in a subsequent release. Please use .values.reshape(...) instead\n",
      "\n"
     ]
    },
    {
     "data": {
      "image/png": "[encoded data removed]",
      "text/plain": [
       "<Figure size 1080x1080 with 9 Axes>"
      ]
     },
     "metadata": {},
     "output_type": "display_data"
    }
   ],
   "source": [
    "fig, axs = plt.subplots(3,3,figsize=(15,15))\n",
    "for (m,n), subplot in np.ndenumerate(axs):\n",
    "    subplot.set_xlim([0,10000])\n",
    "    subplot.set_ylim([0,60000])\n",
    "    \n",
    "axs[0,0].hist([a0,b0], bins=100, stacked=True, color=['blue', 'red'], label=['normal', 'anomaly'])\n",
    "axs[0,1].hist([a1,b1], bins=100, stacked=True, color=['blue', 'red'], label=['normal', 'anomaly'])\n",
    "axs[0,2].hist([a2,b2], bins=100, stacked=True, color=['blue', 'red'], label=['normal', 'anomaly'])\n",
    "axs[1,0].hist([a3,b3], bins=100, stacked=True, color=['blue', 'red'], label=['normal', 'anomaly'])\n",
    "axs[1,1].hist([a4,b4], bins=100, stacked=True, color=['blue', 'red'], label=['normal', 'anomaly'])\n",
    "axs[1,2].hist([a5,b5], bins=100, stacked=True, color=['blue', 'red'], label=['normal', 'anomaly'])\n",
    "axs[2,0].hist([a6,b6], bins=100, stacked=True, color=['blue', 'red'], label=['normal', 'anomaly'])\n",
    "axs[2,1].hist([a7,b7], bins=100, stacked=True, color=['blue', 'red'], label=['normal', 'anomaly'])\n",
    "axs[2,2].hist([a8,b8], bins=100, stacked=True, color=['blue', 'red'], label=['normal', 'anomaly'])\n",
    "\n",
    "axs[0,0].set_title(\"City_0\")\n",
    "axs[0,1].set_title(\"City_1\")\n",
    "axs[0,2].set_title(\"City_2\")\n",
    "axs[1,0].set_title(\"City_3\")\n",
    "axs[1,1].set_title(\"City_4\")\n",
    "axs[1,2].set_title(\"City_5\")\n",
    "axs[2,0].set_title(\"City_6\")\n",
    "axs[2,1].set_title(\"City_7\")\n",
    "axs[2,2].set_title(\"City_8\")\n",
    "plt.legend()\n",
    "plt.show()"
   ]
  },
  {
   "cell_type": "code",
   "execution_count": 218,
   "metadata": {},
   "outputs": [],
   "source": [
    "# add the data to the main \n",
    "df_class = pd.concat([df_class0, df_class1, df_class2, df_class3, df_class4, df_class5, df_class6, df_class7, df_class8])\n",
    "df_mod['anomaly_gaussian_city'] = df_class['anomaly']\n",
    "df_mod['anomaly_gaussian_city'] = np.array(df_mod['anomaly_gaussian_city'] == -1).astype(int)"
   ]
  },
  {
   "cell_type": "code",
   "execution_count": 219,
   "metadata": {},
   "outputs": [
    {
     "data": {
      "image/png": "[encoded data removed]",
      "text/plain": [
       "<Figure size 432x288 with 1 Axes>"
      ]
     },
     "metadata": {},
     "output_type": "display_data"
    }
   ],
   "source": [
    "# visualisation of anomaly throughout time (viz 1)\n",
    "fig, ax = plt.subplots()\n",
    "\n",
    "a = df_mod.loc[df_mod['anomaly_gaussian_city'] == 1, ('time_epoch', 'price_per_night')] #anomaly\n",
    "\n",
    "ax.plot(df_mod['time_epoch'], df_mod['price_per_night'], color='blue')\n",
    "ax.scatter(a['time_epoch'],a['price_per_night'], color='red')\n",
    "plt.show()"
   ]
  },
  {
   "cell_type": "code",
   "execution_count": 220,
   "metadata": {},
   "outputs": [
    {
     "name": "stderr",
     "output_type": "stream",
     "text": [
      "/Users/tommasocondulmari/anaconda3/lib/python3.6/site-packages/numpy/core/fromnumeric.py:52: FutureWarning:\n",
      "\n",
      "reshape is deprecated and will raise in a subsequent release. Please use .values.reshape(...) instead\n",
      "\n"
     ]
    },
    {
     "data": {
      "image/png": "[encoded data removed]",
      "text/plain": [
       "<Figure size 432x288 with 1 Axes>"
      ]
     },
     "metadata": {},
     "output_type": "display_data"
    }
   ],
   "source": [
    "# visualisation of anomaly with price_per_night repartition (viz 2)\n",
    "a = df_mod.loc[df_mod['anomaly_gaussian_city'] == 0, 'price_per_night']\n",
    "b = df_mod.loc[df_mod['anomaly_gaussian_city'] == 1, 'price_per_night']\n",
    "\n",
    "fig, axs = plt.subplots()\n",
    "axs.hist([a,b], bins=32, stacked=True, color=['blue', 'red'], label=['normal', 'anomaly'])\n",
    "plt.legend()\n",
    "plt.show()"
   ]
  },
  {
   "cell_type": "code",
   "execution_count": 221,
   "metadata": {
    "scrolled": true
   },
   "outputs": [],
   "source": [
    "# anomalies= df_mod[df_mod['anomaly_gaussian_city']==1]\n",
    "# anomalies[anomalies['star_rating']=='1']"
   ]
  },
  {
   "cell_type": "markdown",
   "metadata": {},
   "source": [
    "#### Model Summary"
   ]
  },
  {
   "cell_type": "code",
   "execution_count": 222,
   "metadata": {},
   "outputs": [
    {
     "data": {
      "text/plain": [
       "0    881335\n",
       "1     17988\n",
       "Name: anomaly_gaussian_city, dtype: int64"
      ]
     },
     "execution_count": 222,
     "metadata": {},
     "output_type": "execute_result"
    }
   ],
   "source": [
    "# show number of anomalies\n",
    "df_mod['anomaly_gaussian_city'].value_counts()"
   ]
  },
  {
   "cell_type": "code",
   "execution_count": 223,
   "metadata": {
    "scrolled": true
   },
   "outputs": [],
   "source": [
    "# insert prediction to original data frame\n",
    "# merge data frames\n",
    "df = df.merge(df_mod[['row_id', 'anomaly_gaussian_city']], on='row_id', how ='left')"
   ]
  },
  {
   "cell_type": "code",
   "execution_count": 224,
   "metadata": {},
   "outputs": [],
   "source": [
    "# assign 1 to null values which are the one which we exlcluded in df_mod\n",
    "df.loc[df.anomaly_gaussian_city.isnull(), \"anomaly_gaussian_city\"] = 1\n",
    "\n",
    "# transform to integer\n",
    "df['anomaly_gaussian_city'] = df.anomaly_gaussian_city.astype(int)"
   ]
  },
  {
   "cell_type": "markdown",
   "metadata": {},
   "source": [
    "## 6.1 Gaussian Envelope - by Star Rating"
   ]
  },
  {
   "cell_type": "code",
   "execution_count": 225,
   "metadata": {},
   "outputs": [],
   "source": [
    "df_mod = df.copy()\n",
    "df_mod = df_mod[df_mod['anomaly'] == 0]"
   ]
  },
  {
   "cell_type": "code",
   "execution_count": 226,
   "metadata": {},
   "outputs": [
    {
     "data": {
      "text/plain": [
       "(0, 4000)"
      ]
     },
     "execution_count": 226,
     "metadata": {},
     "output_type": "execute_result"
    },
    {
     "data": {
      "image/png": "[encoded data removed]",
      "text/plain": [
       "<Figure size 1800x1080 with 1 Axes>"
      ]
     },
     "metadata": {},
     "output_type": "display_data"
    }
   ],
   "source": [
    "#df2['star_rating_grouped']= df2['star_rating']\n",
    "\n",
    "df['star_rating_grouped'] = df['star_rating'].map({'RESIDENCE': 'RAR', 'APARTHOTEL': 'RAR',\n",
    "                    'RURAL': 'RAR', 'APARTMENT': 'AV', 'VACATIONALS': 'AV',\n",
    "                    'SUPERIOR': 'SV', 'VILLA': 'SV', 'GUEST': 'OTHER',\n",
    "                    'POUSADA': 'OTHER', 'BED':'OTHER','BOARDING':'OTHER','PENDING':'OTHER',\n",
    "                    'WITHOUT':'OTHER', '4':'4', '1':'1','2':'2','3':'3', '5':'5', 'SUPERIOR':'SUPERIOR',\n",
    "                    'BOUTIQUE':'BOUTIQUE', 'HOSTEL':'HOSTEL', 'RESORT':'RESORT', 'STANDARD':'STANDARD'})\n",
    "\n",
    "plt.subplots(figsize=(25,15))\n",
    "sns.boxplot(x='star_rating', y='price_per_night', data= df).set_ylim(0,4000)"
   ]
  },
  {
   "cell_type": "code",
   "execution_count": 227,
   "metadata": {},
   "outputs": [],
   "source": [
    "df_mod = df.copy()\n",
    "df_mod = df_mod[df_mod['anomaly'] == 0]"
   ]
  },
  {
   "cell_type": "code",
   "execution_count": 228,
   "metadata": {
    "scrolled": false
   },
   "outputs": [
    {
     "data": {
      "text/plain": [
       "array(['AV', '1', '5', '3', '4', '2', 'HOSTEL', 'SV', 'RAR', 'SUPERIOR',\n",
       "       'OTHER', 'BOUTIQUE', 'RESORT', 'STANDARD'], dtype=object)"
      ]
     },
     "execution_count": 228,
     "metadata": {},
     "output_type": "execute_result"
    }
   ],
   "source": [
    "df_mod.star_rating_grouped.unique()"
   ]
  },
  {
   "cell_type": "code",
   "execution_count": 229,
   "metadata": {},
   "outputs": [],
   "source": [
    "##### creation of 9 differents data set based on city code\n",
    "df_class0 = df_mod.loc[df_mod['star_rating_grouped'] == \"1\", 'price_per_night']\n",
    "df_class1 = df_mod.loc[df_mod['star_rating_grouped'] == \"2\", 'price_per_night']\n",
    "df_class2 = df_mod.loc[df_mod['star_rating_grouped'] == \"3\", 'price_per_night']\n",
    "df_class3 = df_mod.loc[df_mod['star_rating_grouped'] == \"4\", 'price_per_night']\n",
    "df_class4 = df_mod.loc[df_mod['star_rating_grouped'] == \"5\", 'price_per_night']\n",
    "df_class5 = df_mod.loc[df_mod['star_rating_grouped'] == \"AV\", 'price_per_night']\n",
    "df_class6 = df_mod.loc[df_mod['star_rating_grouped'] == \"BOUTIQUE\", 'price_per_night']\n",
    "df_class7 = df_mod.loc[df_mod['star_rating_grouped'] == \"HOSTEL\", 'price_per_night']\n",
    "df_class8 = df_mod.loc[df_mod['star_rating_grouped'] == \"OTHER\", 'price_per_night']\n",
    "df_class9 = df_mod.loc[df_mod['star_rating_grouped'] == \"RAR\", 'price_per_night']\n",
    "df_class10 = df_mod.loc[df_mod['star_rating_grouped'] == \"RESORT\", 'price_per_night']\n",
    "df_class11 = df_mod.loc[df_mod['star_rating_grouped'] == \"STANDARD\", 'price_per_night']\n",
    "df_class12 = df_mod.loc[df_mod['star_rating_grouped'] == \"SUPERIOR\", 'price_per_night']\n",
    "df_class13 = df_mod.loc[df_mod['star_rating_grouped'] == \"SV\", 'price_per_night']"
   ]
  },
  {
   "cell_type": "code",
   "execution_count": 230,
   "metadata": {},
   "outputs": [
    {
     "data": {
      "text/plain": [
       "<matplotlib.axes._subplots.AxesSubplot at 0x1a178e6f28>"
      ]
     },
     "execution_count": 230,
     "metadata": {},
     "output_type": "execute_result"
    },
    {
     "data": {
      "image/png": "[encoded data removed]",
      "text/plain": [
       "<Figure size 1080x1080 with 16 Axes>"
      ]
     },
     "metadata": {},
     "output_type": "display_data"
    }
   ],
   "source": [
    "# plot the temperature repartition by categories\n",
    "fig, axs = plt.subplots(4,4,figsize=(15,15))\n",
    "# for (m,n), subplot in np.ndenumerate(axs):\n",
    "#     subplot.set_xlim([0,10000])\n",
    "#     subplot.set_ylim([0,60000])\n",
    "    \n",
    "df_class0.hist(ax=axs[0,0],bins=100)\n",
    "df_class1.hist(ax=axs[0,1],bins=100)\n",
    "df_class2.hist(ax=axs[0,2],bins=100)\n",
    "df_class3.hist(ax=axs[0,3],bins=100)\n",
    "df_class4.hist(ax=axs[1,0],bins=100)\n",
    "df_class5.hist(ax=axs[1,1],bins=100)\n",
    "df_class6.hist(ax=axs[1,2],bins=100)\n",
    "df_class7.hist(ax=axs[1,3],bins=100)\n",
    "df_class8.hist(ax=axs[2,0],bins=100)\n",
    "df_class9.hist(ax=axs[2,1],bins=100)\n",
    "df_class10.hist(ax=axs[2,2],bins=100)\n",
    "df_class11.hist(ax=axs[2,3],bins=100)\n",
    "df_class12.hist(ax=axs[3,0],bins=100)\n",
    "df_class13.hist(ax=axs[3,1],bins=100)"
   ]
  },
  {
   "cell_type": "code",
   "execution_count": 231,
   "metadata": {},
   "outputs": [],
   "source": [
    "# apply ellipticEnvelope(gaussian distribution) at each categories\n",
    "envelope =  EllipticEnvelope(contamination = outliers_fraction) \n",
    "X_train = df_class0.values.reshape(-1,1)\n",
    "envelope.fit(X_train)\n",
    "df_class0 = pd.DataFrame(df_class0)\n",
    "df_class0['deviation'] = envelope.decision_function(X_train)\n",
    "df_class0['anomaly'] = envelope.predict(X_train)\n",
    "\n",
    "envelope =  EllipticEnvelope(contamination = outliers_fraction) \n",
    "X_train = df_class1.values.reshape(-1,1)\n",
    "envelope.fit(X_train)\n",
    "df_class1 = pd.DataFrame(df_class1)\n",
    "df_class1['deviation'] = envelope.decision_function(X_train)\n",
    "df_class1['anomaly'] = envelope.predict(X_train)\n",
    "\n",
    "envelope =  EllipticEnvelope(contamination = outliers_fraction) \n",
    "X_train = df_class2.values.reshape(-1,1)\n",
    "envelope.fit(X_train)\n",
    "df_class2 = pd.DataFrame(df_class2)\n",
    "df_class2['deviation'] = envelope.decision_function(X_train)\n",
    "df_class2['anomaly'] = envelope.predict(X_train)\n",
    "\n",
    "envelope =  EllipticEnvelope(contamination = outliers_fraction) \n",
    "X_train = df_class3.values.reshape(-1,1)\n",
    "envelope.fit(X_train)\n",
    "df_class3 = pd.DataFrame(df_class3)\n",
    "df_class3['deviation'] = envelope.decision_function(X_train)\n",
    "df_class3['anomaly'] = envelope.predict(X_train)\n",
    "\n",
    "envelope =  EllipticEnvelope(contamination = outliers_fraction) \n",
    "X_train = df_class4.values.reshape(-1,1)\n",
    "envelope.fit(X_train)\n",
    "df_class4 = pd.DataFrame(df_class4)\n",
    "df_class4['deviation'] = envelope.decision_function(X_train)\n",
    "df_class4['anomaly'] = envelope.predict(X_train)\n",
    "\n",
    "envelope =  EllipticEnvelope(contamination = outliers_fraction) \n",
    "X_train = df_class5.values.reshape(-1,1)\n",
    "envelope.fit(X_train)\n",
    "df_class5 = pd.DataFrame(df_class5)\n",
    "df_class5['deviation'] = envelope.decision_function(X_train)\n",
    "df_class5['anomaly'] = envelope.predict(X_train)\n",
    "\n",
    "envelope =  EllipticEnvelope(contamination = outliers_fraction) \n",
    "X_train = df_class6.values.reshape(-1,1)\n",
    "envelope.fit(X_train)\n",
    "df_class6 = pd.DataFrame(df_class6)\n",
    "df_class6['deviation'] = envelope.decision_function(X_train)\n",
    "df_class6['anomaly'] = envelope.predict(X_train)\n",
    "\n",
    "envelope =  EllipticEnvelope(contamination = outliers_fraction) \n",
    "X_train = df_class7.values.reshape(-1,1)\n",
    "envelope.fit(X_train)\n",
    "df_class7 = pd.DataFrame(df_class7)\n",
    "df_class7['deviation'] = envelope.decision_function(X_train)\n",
    "df_class7['anomaly'] = envelope.predict(X_train)\n",
    "\n",
    "envelope =  EllipticEnvelope(contamination = outliers_fraction) \n",
    "X_train = df_class8.values.reshape(-1,1)\n",
    "envelope.fit(X_train)\n",
    "df_class8 = pd.DataFrame(df_class8)\n",
    "df_class8['deviation'] = envelope.decision_function(X_train)\n",
    "df_class8['anomaly'] = envelope.predict(X_train)\n",
    "\n",
    "envelope =  EllipticEnvelope(contamination = outliers_fraction) \n",
    "X_train = df_class9.values.reshape(-1,1)\n",
    "envelope.fit(X_train)\n",
    "df_class9 = pd.DataFrame(df_class9)\n",
    "df_class9['deviation'] = envelope.decision_function(X_train)\n",
    "df_class9['anomaly'] = envelope.predict(X_train)\n",
    "\n",
    "envelope =  EllipticEnvelope(contamination = outliers_fraction) \n",
    "X_train = df_class10.values.reshape(-1,1)\n",
    "envelope.fit(X_train)\n",
    "df_class10 = pd.DataFrame(df_class10)\n",
    "df_class10['deviation'] = envelope.decision_function(X_train)\n",
    "df_class10['anomaly'] = envelope.predict(X_train)\n",
    "\n",
    "envelope =  EllipticEnvelope(contamination = outliers_fraction) \n",
    "X_train = df_class11.values.reshape(-1,1)\n",
    "envelope.fit(X_train)\n",
    "df_class11 = pd.DataFrame(df_class11)\n",
    "df_class11['deviation'] = envelope.decision_function(X_train)\n",
    "df_class11['anomaly'] = envelope.predict(X_train)\n",
    "\n",
    "envelope =  EllipticEnvelope(contamination = outliers_fraction) \n",
    "X_train = df_class12.values.reshape(-1,1)\n",
    "envelope.fit(X_train)\n",
    "df_class12 = pd.DataFrame(df_class12)\n",
    "df_class12['deviation'] = envelope.decision_function(X_train)\n",
    "df_class12['anomaly'] = envelope.predict(X_train)\n",
    "\n",
    "envelope =  EllipticEnvelope(contamination = outliers_fraction) \n",
    "X_train = df_class13.values.reshape(-1,1)\n",
    "envelope.fit(X_train)\n",
    "df_class13 = pd.DataFrame(df_class13)\n",
    "df_class13['deviation'] = envelope.decision_function(X_train)\n",
    "df_class13['anomaly'] = envelope.predict(X_train)"
   ]
  },
  {
   "cell_type": "code",
   "execution_count": 232,
   "metadata": {},
   "outputs": [],
   "source": [
    "# plot the price_per_night repartition by categories with anomalies\n",
    "a0 = df_class0.loc[df_class0['anomaly'] == 1, 'price_per_night']\n",
    "b0 = df_class0.loc[df_class0['anomaly'] == -1, 'price_per_night']\n",
    "\n",
    "a1 = df_class1.loc[df_class1['anomaly'] == 1, 'price_per_night']\n",
    "b1 = df_class1.loc[df_class1['anomaly'] == -1, 'price_per_night']\n",
    "\n",
    "a2 = df_class2.loc[df_class2['anomaly'] == 1, 'price_per_night']\n",
    "b2 = df_class2.loc[df_class2['anomaly'] == -1, 'price_per_night']\n",
    "\n",
    "a3 = df_class3.loc[df_class3['anomaly'] == 1, 'price_per_night']\n",
    "b3 = df_class3.loc[df_class3['anomaly'] == -1, 'price_per_night']\n",
    "\n",
    "a4 = df_class4.loc[df_class4['anomaly'] == 1, 'price_per_night']\n",
    "b4 = df_class4.loc[df_class4['anomaly'] == -1, 'price_per_night']\n",
    "\n",
    "a5 = df_class5.loc[df_class5['anomaly'] == 1, 'price_per_night']\n",
    "b5 = df_class5.loc[df_class5['anomaly'] == -1, 'price_per_night']\n",
    "\n",
    "a6 = df_class6.loc[df_class6['anomaly'] == 1, 'price_per_night']\n",
    "b6 = df_class6.loc[df_class6['anomaly'] == -1, 'price_per_night']\n",
    "\n",
    "a7 = df_class7.loc[df_class7['anomaly'] == 1, 'price_per_night']\n",
    "b7 = df_class7.loc[df_class7['anomaly'] == -1, 'price_per_night']\n",
    "\n",
    "a8 = df_class8.loc[df_class8['anomaly'] == 1, 'price_per_night']\n",
    "b8 = df_class8.loc[df_class8['anomaly'] == -1, 'price_per_night']\n",
    "\n",
    "a9 = df_class9.loc[df_class9['anomaly'] == 1, 'price_per_night']\n",
    "b9 = df_class9.loc[df_class9['anomaly'] == -1, 'price_per_night']\n",
    "\n",
    "a10 = df_class10.loc[df_class10['anomaly'] == 1, 'price_per_night']\n",
    "b10 = df_class10.loc[df_class10['anomaly'] == -1, 'price_per_night']\n",
    "\n",
    "a11 = df_class11.loc[df_class11['anomaly'] == 1, 'price_per_night']\n",
    "b11 = df_class11.loc[df_class11['anomaly'] == -1, 'price_per_night']\n",
    "\n",
    "a12 = df_class12.loc[df_class12['anomaly'] == 1, 'price_per_night']\n",
    "b12 = df_class12.loc[df_class12['anomaly'] == -1, 'price_per_night']\n",
    "\n",
    "a13 = df_class13.loc[df_class13['anomaly'] == 1, 'price_per_night']\n",
    "b13 = df_class13.loc[df_class13['anomaly'] == -1, 'price_per_night']"
   ]
  },
  {
   "cell_type": "code",
   "execution_count": 233,
   "metadata": {},
   "outputs": [
    {
     "name": "stderr",
     "output_type": "stream",
     "text": [
      "/Users/tommasocondulmari/anaconda3/lib/python3.6/site-packages/numpy/core/fromnumeric.py:52: FutureWarning:\n",
      "\n",
      "reshape is deprecated and will raise in a subsequent release. Please use .values.reshape(...) instead\n",
      "\n",
      "No handles with labels found to put in legend.\n"
     ]
    },
    {
     "data": {
      "image/png": "[encoded data removed]",
      "text/plain": [
       "<Figure size 1080x1080 with 16 Axes>"
      ]
     },
     "metadata": {},
     "output_type": "display_data"
    }
   ],
   "source": [
    "fig, axs = plt.subplots(4,4,figsize=(15,15))\n",
    "# for (m,n), subplot in np.ndenumerate(axs):\n",
    "#     subplot.set_xlim([0,10000])\n",
    "#     subplot.set_ylim([0,60000])\n",
    "    \n",
    "axs[0,0].hist([a0,b0], bins=100, stacked=True, color=['blue', 'red'], label=['normal', 'anomaly'])\n",
    "axs[0,1].hist([a1,b1], bins=100, stacked=True, color=['blue', 'red'], label=['normal', 'anomaly'])\n",
    "axs[0,2].hist([a2,b2], bins=100, stacked=True, color=['blue', 'red'], label=['normal', 'anomaly'])\n",
    "axs[0,3].hist([a3,b3], bins=100, stacked=True, color=['blue', 'red'], label=['normal', 'anomaly'])\n",
    "axs[1,0].hist([a4,b4], bins=100, stacked=True, color=['blue', 'red'], label=['normal', 'anomaly'])\n",
    "axs[1,1].hist([a5,b5], bins=100, stacked=True, color=['blue', 'red'], label=['normal', 'anomaly'])\n",
    "axs[1,2].hist([a6,b6], bins=100, stacked=True, color=['blue', 'red'], label=['normal', 'anomaly'])\n",
    "axs[1,3].hist([a7,b7], bins=100, stacked=True, color=['blue', 'red'], label=['normal', 'anomaly'])\n",
    "axs[2,0].hist([a8,b8], bins=100, stacked=True, color=['blue', 'red'], label=['normal', 'anomaly'])\n",
    "axs[2,1].hist([a9,b9], bins=100, stacked=True, color=['blue', 'red'], label=['normal', 'anomaly'])\n",
    "axs[2,2].hist([a10,b10], bins=100, stacked=True, color=['blue', 'red'], label=['normal', 'anomaly'])\n",
    "axs[2,3].hist([a11,b11], bins=100, stacked=True, color=['blue', 'red'], label=['normal', 'anomaly'])\n",
    "axs[3,0].hist([a12,b12], bins=100, stacked=True, color=['blue', 'red'], label=['normal', 'anomaly'])\n",
    "axs[3,1].hist([a13,b13], bins=100, stacked=True, color=['blue', 'red'], label=['normal', 'anomaly'])\n",
    "\n",
    "axs[0,0].set_title(\"1 Star\")\n",
    "axs[0,1].set_title(\"2 Stars\")\n",
    "axs[0,2].set_title(\"3 Stars\")\n",
    "axs[0,3].set_title(\"4 Stars\")\n",
    "axs[1,0].set_title(\"5 Stars\")\n",
    "axs[1,1].set_title(\"AV\")\n",
    "axs[1,2].set_title(\"BOUTIQUE\")\n",
    "axs[1,3].set_title(\"HOSTEL\")\n",
    "axs[2,0].set_title(\"OTHER\")\n",
    "axs[2,1].set_title(\"RAR\")\n",
    "axs[2,2].set_title(\"RESORT\")\n",
    "axs[2,3].set_title(\"STANDARD\")\n",
    "axs[3,0].set_title(\"SUPERIOR\")\n",
    "axs[3,1].set_title(\"SV\")\n",
    "\n",
    "plt.legend()\n",
    "plt.show()"
   ]
  },
  {
   "cell_type": "code",
   "execution_count": 234,
   "metadata": {},
   "outputs": [],
   "source": [
    "# add the data to the main \n",
    "df_class = pd.concat([df_class0, df_class1, df_class2, df_class3, df_class4, df_class5, df_class6, df_class7, df_class8,\n",
    "                     df_class9, df_class10, df_class11, df_class12, df_class13])\n",
    "df_mod['anomaly_gaussian_star_rating'] = df_class['anomaly']\n",
    "df_mod['anomaly_gaussian_star_rating'] = np.array(df_mod['anomaly_gaussian_star_rating'] == -1).astype(int)"
   ]
  },
  {
   "cell_type": "code",
   "execution_count": 235,
   "metadata": {},
   "outputs": [
    {
     "data": {
      "image/png": "[encoded data removed]",
      "text/plain": [
       "<Figure size 432x288 with 1 Axes>"
      ]
     },
     "metadata": {},
     "output_type": "display_data"
    }
   ],
   "source": [
    "# visualisation of anomaly throughout time (viz 1)\n",
    "fig, ax = plt.subplots()\n",
    "\n",
    "a = df_mod.loc[df_mod['anomaly_gaussian_star_rating'] == 1, ('time_epoch', 'price_per_night')] #anomaly\n",
    "\n",
    "ax.plot(df_mod['time_epoch'], df_mod['price_per_night'], color='blue')\n",
    "ax.scatter(a['time_epoch'],a['price_per_night'], color='red')\n",
    "plt.show()"
   ]
  },
  {
   "cell_type": "code",
   "execution_count": 236,
   "metadata": {},
   "outputs": [
    {
     "name": "stderr",
     "output_type": "stream",
     "text": [
      "/Users/tommasocondulmari/anaconda3/lib/python3.6/site-packages/numpy/core/fromnumeric.py:52: FutureWarning:\n",
      "\n",
      "reshape is deprecated and will raise in a subsequent release. Please use .values.reshape(...) instead\n",
      "\n"
     ]
    },
    {
     "data": {
      "image/png": "[encoded data removed]",
      "text/plain": [
       "<Figure size 432x288 with 1 Axes>"
      ]
     },
     "metadata": {},
     "output_type": "display_data"
    }
   ],
   "source": [
    "# visualisation of anomaly with price_per_night repartition (viz 2)\n",
    "a = df_mod.loc[df_mod['anomaly_gaussian_star_rating'] == 0, 'price_per_night']\n",
    "b = df_mod.loc[df_mod['anomaly_gaussian_star_rating'] == 1, 'price_per_night']\n",
    "\n",
    "fig, axs = plt.subplots()\n",
    "axs.hist([a,b], bins=32, stacked=True, color=['blue', 'red'], label=['normal', 'anomaly'])\n",
    "plt.legend()\n",
    "plt.show()"
   ]
  },
  {
   "cell_type": "code",
   "execution_count": 237,
   "metadata": {
    "scrolled": false
   },
   "outputs": [],
   "source": [
    "# anomalies= df_mod[df_mod['anomaly_gaussian_star_rating']==1]\n",
    "# anomalies[anomalies['star_rating']=='1']"
   ]
  },
  {
   "cell_type": "markdown",
   "metadata": {},
   "source": [
    "#### Model Summary"
   ]
  },
  {
   "cell_type": "code",
   "execution_count": 238,
   "metadata": {
    "scrolled": true
   },
   "outputs": [
    {
     "data": {
      "text/plain": [
       "0    881335\n",
       "1     17988\n",
       "Name: anomaly_gaussian_star_rating, dtype: int64"
      ]
     },
     "execution_count": 238,
     "metadata": {},
     "output_type": "execute_result"
    }
   ],
   "source": [
    "# show number of anomalies\n",
    "df_mod['anomaly_gaussian_star_rating'].value_counts()"
   ]
  },
  {
   "cell_type": "code",
   "execution_count": 239,
   "metadata": {
    "scrolled": false
   },
   "outputs": [],
   "source": [
    "# insert prediction to original data frame\n",
    "# merge data frames\n",
    "df = df.merge(df_mod[['row_id', 'anomaly_gaussian_star_rating']], on='row_id', how ='left')"
   ]
  },
  {
   "cell_type": "code",
   "execution_count": 240,
   "metadata": {},
   "outputs": [],
   "source": [
    "# assign 1 to null values which are the one which we exlcluded in df_mod\n",
    "df.loc[df.anomaly_gaussian_star_rating.isnull(), \"anomaly_gaussian_star_rating\"] = 1\n",
    "\n",
    "# transform to integer\n",
    "df['anomaly_gaussian_star_rating'] = df.anomaly_gaussian_star_rating.astype(int)"
   ]
  },
  {
   "cell_type": "markdown",
   "metadata": {},
   "source": [
    "# 7. Submission"
   ]
  },
  {
   "cell_type": "code",
   "execution_count": 241,
   "metadata": {
    "scrolled": true
   },
   "outputs": [
    {
     "data": {
      "text/html": [
       "<div>\n",
       "<style scoped>\n",
       "    .dataframe tbody tr th:only-of-type {\n",
       "        vertical-align: middle;\n",
       "    }\n",
       "\n",
       "    .dataframe tbody tr th {\n",
       "        vertical-align: top;\n",
       "    }\n",
       "\n",
       "    .dataframe thead th {\n",
       "        text-align: right;\n",
       "    }\n",
       "</style>\n",
       "<table border=\"1\" class=\"dataframe\">\n",
       "  <thead>\n",
       "    <tr style=\"text-align: right;\">\n",
       "      <th></th>\n",
       "      <th>hotel_hkey</th>\n",
       "      <th>contract_id_hkey</th>\n",
       "      <th>id_hkey</th>\n",
       "      <th>city_code</th>\n",
       "      <th>category_room</th>\n",
       "      <th>contract_type</th>\n",
       "      <th>room_type</th>\n",
       "      <th>meal_basis</th>\n",
       "      <th>creation_date</th>\n",
       "      <th>arrival_date</th>\n",
       "      <th>...</th>\n",
       "      <th>booking_lag</th>\n",
       "      <th>price_per_night</th>\n",
       "      <th>creation_date_wday</th>\n",
       "      <th>creation_date_wday_name</th>\n",
       "      <th>weekend_trip</th>\n",
       "      <th>time_epoch</th>\n",
       "      <th>anomaly</th>\n",
       "      <th>star_rating_grouped</th>\n",
       "      <th>anomaly_gaussian_city</th>\n",
       "      <th>anomaly_gaussian_star_rating</th>\n",
       "    </tr>\n",
       "  </thead>\n",
       "  <tbody>\n",
       "    <tr>\n",
       "      <th>0</th>\n",
       "      <td>-8311839113995541010</td>\n",
       "      <td>3308171939935307043</td>\n",
       "      <td>-6758561262332566539</td>\n",
       "      <td>1</td>\n",
       "      <td>BL-6</td>\n",
       "      <td>OPQ</td>\n",
       "      <td>APT</td>\n",
       "      <td>RO</td>\n",
       "      <td>2018-05-22</td>\n",
       "      <td>2018-06-30</td>\n",
       "      <td>...</td>\n",
       "      <td>39</td>\n",
       "      <td>2838.499200</td>\n",
       "      <td>1</td>\n",
       "      <td>Tuesday</td>\n",
       "      <td>1</td>\n",
       "      <td>15269472</td>\n",
       "      <td>0</td>\n",
       "      <td>AV</td>\n",
       "      <td>0</td>\n",
       "      <td>0</td>\n",
       "    </tr>\n",
       "    <tr>\n",
       "      <th>1</th>\n",
       "      <td>-7782336419181110673</td>\n",
       "      <td>-3269338087318960614</td>\n",
       "      <td>-9183082468560560492</td>\n",
       "      <td>8</td>\n",
       "      <td>ST</td>\n",
       "      <td>NOR</td>\n",
       "      <td>DBT</td>\n",
       "      <td>BB</td>\n",
       "      <td>2018-05-22</td>\n",
       "      <td>2018-07-20</td>\n",
       "      <td>...</td>\n",
       "      <td>59</td>\n",
       "      <td>889.617300</td>\n",
       "      <td>1</td>\n",
       "      <td>Tuesday</td>\n",
       "      <td>1</td>\n",
       "      <td>15269472</td>\n",
       "      <td>0</td>\n",
       "      <td>1</td>\n",
       "      <td>0</td>\n",
       "      <td>0</td>\n",
       "    </tr>\n",
       "    <tr>\n",
       "      <th>2</th>\n",
       "      <td>-8185637807857201025</td>\n",
       "      <td>-7171383991101553094</td>\n",
       "      <td>-573449065418159891</td>\n",
       "      <td>6</td>\n",
       "      <td>XX-KG-SU</td>\n",
       "      <td>NOR</td>\n",
       "      <td>DBL</td>\n",
       "      <td>RO</td>\n",
       "      <td>2018-05-22</td>\n",
       "      <td>2018-05-24</td>\n",
       "      <td>...</td>\n",
       "      <td>2</td>\n",
       "      <td>3463.942871</td>\n",
       "      <td>1</td>\n",
       "      <td>Tuesday</td>\n",
       "      <td>1</td>\n",
       "      <td>15269472</td>\n",
       "      <td>0</td>\n",
       "      <td>5</td>\n",
       "      <td>0</td>\n",
       "      <td>0</td>\n",
       "    </tr>\n",
       "    <tr>\n",
       "      <th>3</th>\n",
       "      <td>4398388086357359587</td>\n",
       "      <td>3421074771505167982</td>\n",
       "      <td>215759992217563846</td>\n",
       "      <td>2</td>\n",
       "      <td>ST</td>\n",
       "      <td>NONE</td>\n",
       "      <td>TWN</td>\n",
       "      <td>BB</td>\n",
       "      <td>2018-05-22</td>\n",
       "      <td>2018-06-08</td>\n",
       "      <td>...</td>\n",
       "      <td>17</td>\n",
       "      <td>1107.261668</td>\n",
       "      <td>1</td>\n",
       "      <td>Tuesday</td>\n",
       "      <td>1</td>\n",
       "      <td>15269472</td>\n",
       "      <td>0</td>\n",
       "      <td>3</td>\n",
       "      <td>0</td>\n",
       "      <td>0</td>\n",
       "    </tr>\n",
       "    <tr>\n",
       "      <th>4</th>\n",
       "      <td>-7098207282290159573</td>\n",
       "      <td>7965439627984399332</td>\n",
       "      <td>1006074091123194605</td>\n",
       "      <td>7</td>\n",
       "      <td>ST</td>\n",
       "      <td>NOR</td>\n",
       "      <td>DBT</td>\n",
       "      <td>RO</td>\n",
       "      <td>2018-05-22</td>\n",
       "      <td>2018-06-11</td>\n",
       "      <td>...</td>\n",
       "      <td>20</td>\n",
       "      <td>862.100000</td>\n",
       "      <td>1</td>\n",
       "      <td>Tuesday</td>\n",
       "      <td>0</td>\n",
       "      <td>15269472</td>\n",
       "      <td>0</td>\n",
       "      <td>3</td>\n",
       "      <td>0</td>\n",
       "      <td>0</td>\n",
       "    </tr>\n",
       "  </tbody>\n",
       "</table>\n",
       "<p>5 rows × 25 columns</p>\n",
       "</div>"
      ],
      "text/plain": [
       "            hotel_hkey     contract_id_hkey              id_hkey  city_code  \\\n",
       "0 -8311839113995541010  3308171939935307043 -6758561262332566539          1   \n",
       "1 -7782336419181110673 -3269338087318960614 -9183082468560560492          8   \n",
       "2 -8185637807857201025 -7171383991101553094  -573449065418159891          6   \n",
       "3  4398388086357359587  3421074771505167982   215759992217563846          2   \n",
       "4 -7098207282290159573  7965439627984399332  1006074091123194605          7   \n",
       "\n",
       "  category_room contract_type room_type meal_basis creation_date arrival_date  \\\n",
       "0          BL-6           OPQ       APT         RO    2018-05-22   2018-06-30   \n",
       "1            ST           NOR       DBT         BB    2018-05-22   2018-07-20   \n",
       "2      XX-KG-SU           NOR       DBL         RO    2018-05-22   2018-05-24   \n",
       "3            ST          NONE       TWN         BB    2018-05-22   2018-06-08   \n",
       "4            ST           NOR       DBT         RO    2018-05-22   2018-06-11   \n",
       "\n",
       "               ...              booking_lag  price_per_night  \\\n",
       "0              ...                       39      2838.499200   \n",
       "1              ...                       59       889.617300   \n",
       "2              ...                        2      3463.942871   \n",
       "3              ...                       17      1107.261668   \n",
       "4              ...                       20       862.100000   \n",
       "\n",
       "  creation_date_wday  creation_date_wday_name  weekend_trip  time_epoch  \\\n",
       "0                  1                  Tuesday             1    15269472   \n",
       "1                  1                  Tuesday             1    15269472   \n",
       "2                  1                  Tuesday             1    15269472   \n",
       "3                  1                  Tuesday             1    15269472   \n",
       "4                  1                  Tuesday             0    15269472   \n",
       "\n",
       "   anomaly  star_rating_grouped anomaly_gaussian_city  \\\n",
       "0        0                   AV                     0   \n",
       "1        0                    1                     0   \n",
       "2        0                    5                     0   \n",
       "3        0                    3                     0   \n",
       "4        0                    3                     0   \n",
       "\n",
       "   anomaly_gaussian_star_rating  \n",
       "0                             0  \n",
       "1                             0  \n",
       "2                             0  \n",
       "3                             0  \n",
       "4                             0  \n",
       "\n",
       "[5 rows x 25 columns]"
      ]
     },
     "execution_count": 241,
     "metadata": {},
     "output_type": "execute_result"
    }
   ],
   "source": [
    "df.head()"
   ]
  },
  {
   "cell_type": "code",
   "execution_count": 242,
   "metadata": {},
   "outputs": [],
   "source": [
    "df_sub = df[['row_id', 'anomaly_gaussian_city', 'anomaly_gaussian_star_rating']]"
   ]
  },
  {
   "cell_type": "code",
   "execution_count": 243,
   "metadata": {
    "scrolled": true
   },
   "outputs": [
    {
     "name": "stderr",
     "output_type": "stream",
     "text": [
      "/Users/tommasocondulmari/anaconda3/lib/python3.6/site-packages/ipykernel_launcher.py:1: SettingWithCopyWarning:\n",
      "\n",
      "\n",
      "A value is trying to be set on a copy of a slice from a DataFrame.\n",
      "Try using .loc[row_indexer,col_indexer] = value instead\n",
      "\n",
      "See the caveats in the documentation: http://pandas.pydata.org/pandas-docs/stable/indexing.html#indexing-view-versus-copy\n",
      "\n"
     ]
    }
   ],
   "source": [
    "df_sub['final_prediction'] = df_sub['anomaly_gaussian_city'] * df_sub['anomaly_gaussian_star_rating']"
   ]
  },
  {
   "cell_type": "code",
   "execution_count": 244,
   "metadata": {
    "scrolled": true
   },
   "outputs": [
    {
     "data": {
      "text/plain": [
       "0    889928\n",
       "1      9549\n",
       "Name: final_prediction, dtype: int64"
      ]
     },
     "execution_count": 244,
     "metadata": {},
     "output_type": "execute_result"
    }
   ],
   "source": [
    "# show number of anomalies\n",
    "df_sub['final_prediction'].value_counts()"
   ]
  },
  {
   "cell_type": "code",
   "execution_count": 247,
   "metadata": {},
   "outputs": [],
   "source": [
    "df_sub[['row_id','final_prediction']].to_csv('./data/prediction.csv', index = False)"
   ]
  },
  {
   "cell_type": "markdown",
   "metadata": {},
   "source": [
    "# 8. Alternative Approaches"
   ]
  },
  {
   "cell_type": "markdown",
   "metadata": {},
   "source": [
    "## 8.1 Local Outlier Factor"
   ]
  },
  {
   "cell_type": "code",
   "execution_count": 91,
   "metadata": {},
   "outputs": [],
   "source": [
    "df_mod = df.copy()\n",
    "df_mod = df_mod[df_mod['anomaly'] == 0]"
   ]
  },
  {
   "cell_type": "code",
   "execution_count": 92,
   "metadata": {
    "scrolled": true
   },
   "outputs": [
    {
     "ename": "KeyboardInterrupt",
     "evalue": "",
     "output_type": "error",
     "traceback": [
      "\u001b[0;31m---------------------------------------------------------------------------\u001b[0m",
      "\u001b[0;31mKeyboardInterrupt\u001b[0m                         Traceback (most recent call last)",
      "\u001b[0;32m<ipython-input-92-662f056b58cf>\u001b[0m in \u001b[0;36m<module>\u001b[0;34m()\u001b[0m\n\u001b[1;32m      3\u001b[0m \u001b[0;34m\u001b[0m\u001b[0m\n\u001b[1;32m      4\u001b[0m \u001b[0mlof_model\u001b[0m \u001b[0;34m=\u001b[0m \u001b[0mLocalOutlierFactor\u001b[0m\u001b[0;34m(\u001b[0m\u001b[0mn_neighbors\u001b[0m \u001b[0;34m=\u001b[0m \u001b[0;36m35\u001b[0m\u001b[0;34m,\u001b[0m \u001b[0mcontamination\u001b[0m \u001b[0;34m=\u001b[0m \u001b[0;36m0.00223\u001b[0m\u001b[0;34m,\u001b[0m \u001b[0mn_jobs\u001b[0m \u001b[0;34m=\u001b[0m \u001b[0;34m-\u001b[0m\u001b[0;36m1\u001b[0m\u001b[0;34m)\u001b[0m\u001b[0;34m\u001b[0m\u001b[0m\n\u001b[0;32m----> 5\u001b[0;31m \u001b[0mlof_model\u001b[0m\u001b[0;34m.\u001b[0m\u001b[0mfit\u001b[0m\u001b[0;34m(\u001b[0m\u001b[0mdf_mod\u001b[0m\u001b[0;34m)\u001b[0m\u001b[0;34m\u001b[0m\u001b[0m\n\u001b[0m\u001b[1;32m      6\u001b[0m \u001b[0my_pred\u001b[0m \u001b[0;34m=\u001b[0m \u001b[0mlof_model\u001b[0m\u001b[0;34m.\u001b[0m\u001b[0mfit_predict\u001b[0m\u001b[0;34m(\u001b[0m\u001b[0mdf_mod\u001b[0m\u001b[0;34m)\u001b[0m\u001b[0;34m\u001b[0m\u001b[0m\n\u001b[1;32m      7\u001b[0m \u001b[0mdf_mod\u001b[0m\u001b[0;34m[\u001b[0m\u001b[0;34m'anomaly_lof'\u001b[0m\u001b[0;34m]\u001b[0m \u001b[0;34m=\u001b[0m \u001b[0my_pred\u001b[0m\u001b[0;34m\u001b[0m\u001b[0m\n",
      "\u001b[0;32m~/anaconda3/lib/python3.6/site-packages/sklearn/neighbors/lof.py\u001b[0m in \u001b[0;36mfit\u001b[0;34m(self, X, y)\u001b[0m\n\u001b[1;32m    171\u001b[0m             \u001b[0;32mraise\u001b[0m \u001b[0mValueError\u001b[0m\u001b[0;34m(\u001b[0m\u001b[0;34m\"contamination must be in (0, 0.5]\"\u001b[0m\u001b[0;34m)\u001b[0m\u001b[0;34m\u001b[0m\u001b[0m\n\u001b[1;32m    172\u001b[0m \u001b[0;34m\u001b[0m\u001b[0m\n\u001b[0;32m--> 173\u001b[0;31m         \u001b[0msuper\u001b[0m\u001b[0;34m(\u001b[0m\u001b[0mLocalOutlierFactor\u001b[0m\u001b[0;34m,\u001b[0m \u001b[0mself\u001b[0m\u001b[0;34m)\u001b[0m\u001b[0;34m.\u001b[0m\u001b[0mfit\u001b[0m\u001b[0;34m(\u001b[0m\u001b[0mX\u001b[0m\u001b[0;34m)\u001b[0m\u001b[0;34m\u001b[0m\u001b[0m\n\u001b[0m\u001b[1;32m    174\u001b[0m \u001b[0;34m\u001b[0m\u001b[0m\n\u001b[1;32m    175\u001b[0m         \u001b[0mn_samples\u001b[0m \u001b[0;34m=\u001b[0m \u001b[0mself\u001b[0m\u001b[0;34m.\u001b[0m\u001b[0m_fit_X\u001b[0m\u001b[0;34m.\u001b[0m\u001b[0mshape\u001b[0m\u001b[0;34m[\u001b[0m\u001b[0;36m0\u001b[0m\u001b[0;34m]\u001b[0m\u001b[0;34m\u001b[0m\u001b[0m\n",
      "\u001b[0;32m~/anaconda3/lib/python3.6/site-packages/sklearn/neighbors/base.py\u001b[0m in \u001b[0;36mfit\u001b[0;34m(self, X, y)\u001b[0m\n\u001b[1;32m    801\u001b[0m             \u001b[0;32mor\u001b[0m \u001b[0;34m[\u001b[0m\u001b[0mn_samples\u001b[0m\u001b[0;34m,\u001b[0m \u001b[0mn_samples\u001b[0m\u001b[0;34m]\u001b[0m \u001b[0;32mif\u001b[0m \u001b[0mmetric\u001b[0m\u001b[0;34m=\u001b[0m\u001b[0;34m'precomputed'\u001b[0m\u001b[0;34m.\u001b[0m\u001b[0;34m\u001b[0m\u001b[0m\n\u001b[1;32m    802\u001b[0m         \"\"\"\n\u001b[0;32m--> 803\u001b[0;31m         \u001b[0;32mreturn\u001b[0m \u001b[0mself\u001b[0m\u001b[0;34m.\u001b[0m\u001b[0m_fit\u001b[0m\u001b[0;34m(\u001b[0m\u001b[0mX\u001b[0m\u001b[0;34m)\u001b[0m\u001b[0;34m\u001b[0m\u001b[0m\n\u001b[0m",
      "\u001b[0;32m~/anaconda3/lib/python3.6/site-packages/sklearn/neighbors/base.py\u001b[0m in \u001b[0;36m_fit\u001b[0;34m(self, X)\u001b[0m\n\u001b[1;32m    246\u001b[0m             self._tree = KDTree(X, self.leaf_size,\n\u001b[1;32m    247\u001b[0m                                 \u001b[0mmetric\u001b[0m\u001b[0;34m=\u001b[0m\u001b[0mself\u001b[0m\u001b[0;34m.\u001b[0m\u001b[0meffective_metric_\u001b[0m\u001b[0;34m,\u001b[0m\u001b[0;34m\u001b[0m\u001b[0m\n\u001b[0;32m--> 248\u001b[0;31m                                 **self.effective_metric_params_)\n\u001b[0m\u001b[1;32m    249\u001b[0m         \u001b[0;32melif\u001b[0m \u001b[0mself\u001b[0m\u001b[0;34m.\u001b[0m\u001b[0m_fit_method\u001b[0m \u001b[0;34m==\u001b[0m \u001b[0;34m'brute'\u001b[0m\u001b[0;34m:\u001b[0m\u001b[0;34m\u001b[0m\u001b[0m\n\u001b[1;32m    250\u001b[0m             \u001b[0mself\u001b[0m\u001b[0;34m.\u001b[0m\u001b[0m_tree\u001b[0m \u001b[0;34m=\u001b[0m \u001b[0;32mNone\u001b[0m\u001b[0;34m\u001b[0m\u001b[0m\n",
      "\u001b[0;31mKeyboardInterrupt\u001b[0m: "
     ]
    }
   ],
   "source": [
    "df_mod = df_mod[['city_code','star_rating','price_per_night', 'row_id']]\n",
    "df_mod = pd.get_dummies(df_mod)\n",
    "\n",
    "lof_model = LocalOutlierFactor(n_neighbors = 35, contamination = outliers_fraction, n_jobs = -1)\n",
    "lof_model.fit(df_mod.loc[:, df.columns != 'row_id'])\n",
    "y_pred = lof_model.fit_predict(df_mod)\n",
    "df_mod['anomaly_lof'] = y_pred\n",
    "df_mod['anomaly_lof'] = df_mod['anomaly_lof'].map( {1: 0, -1: 1} )"
   ]
  },
  {
   "cell_type": "markdown",
   "metadata": {},
   "source": [
    "#### Model Summary"
   ]
  },
  {
   "cell_type": "code",
   "execution_count": 88,
   "metadata": {
    "scrolled": true
   },
   "outputs": [
    {
     "data": {
      "text/plain": [
       "anomaly_gaussian_star_rating\n",
       "0    897312\n",
       "1      2011\n",
       "Name: id_hkey, dtype: int64"
      ]
     },
     "execution_count": 88,
     "metadata": {},
     "output_type": "execute_result"
    }
   ],
   "source": [
    "# show number of anomalies\n",
    "df_mod['anomaly_lof'].value_counts()"
   ]
  },
  {
   "cell_type": "code",
   "execution_count": 67,
   "metadata": {
    "scrolled": true
   },
   "outputs": [
    {
     "ename": "AttributeError",
     "evalue": "'DataFrame' object has no attribute 'anomaly_gaussian'",
     "output_type": "error",
     "traceback": [
      "\u001b[0;31m---------------------------------------------------------------------------\u001b[0m",
      "\u001b[0;31mAttributeError\u001b[0m                            Traceback (most recent call last)",
      "\u001b[0;32m<ipython-input-67-81592f09dfdd>\u001b[0m in \u001b[0;36m<module>\u001b[0;34m()\u001b[0m\n\u001b[1;32m      4\u001b[0m \u001b[0;34m\u001b[0m\u001b[0m\n\u001b[1;32m      5\u001b[0m \u001b[0;31m# assign 1 to null values which are the one which we exlcluded in df_mod\u001b[0m\u001b[0;34m\u001b[0m\u001b[0;34m\u001b[0m\u001b[0m\n\u001b[0;32m----> 6\u001b[0;31m \u001b[0mdf\u001b[0m\u001b[0;34m.\u001b[0m\u001b[0mloc\u001b[0m\u001b[0;34m[\u001b[0m\u001b[0mdf\u001b[0m\u001b[0;34m.\u001b[0m\u001b[0manomaly_gaussian\u001b[0m\u001b[0;34m.\u001b[0m\u001b[0misnull\u001b[0m\u001b[0;34m(\u001b[0m\u001b[0;34m)\u001b[0m\u001b[0;34m,\u001b[0m \u001b[0;34m\"anomaly_gaussian\"\u001b[0m\u001b[0;34m]\u001b[0m \u001b[0;34m=\u001b[0m \u001b[0;36m1\u001b[0m\u001b[0;34m\u001b[0m\u001b[0m\n\u001b[0m\u001b[1;32m      7\u001b[0m \u001b[0;34m\u001b[0m\u001b[0m\n\u001b[1;32m      8\u001b[0m \u001b[0;31m# transform to integer\u001b[0m\u001b[0;34m\u001b[0m\u001b[0;34m\u001b[0m\u001b[0m\n",
      "\u001b[0;32m~/anaconda3/lib/python3.6/site-packages/pandas/core/generic.py\u001b[0m in \u001b[0;36m__getattr__\u001b[0;34m(self, name)\u001b[0m\n\u001b[1;32m   3612\u001b[0m             \u001b[0;32mif\u001b[0m \u001b[0mname\u001b[0m \u001b[0;32min\u001b[0m \u001b[0mself\u001b[0m\u001b[0;34m.\u001b[0m\u001b[0m_info_axis\u001b[0m\u001b[0;34m:\u001b[0m\u001b[0;34m\u001b[0m\u001b[0m\n\u001b[1;32m   3613\u001b[0m                 \u001b[0;32mreturn\u001b[0m \u001b[0mself\u001b[0m\u001b[0;34m[\u001b[0m\u001b[0mname\u001b[0m\u001b[0;34m]\u001b[0m\u001b[0;34m\u001b[0m\u001b[0m\n\u001b[0;32m-> 3614\u001b[0;31m             \u001b[0;32mreturn\u001b[0m \u001b[0mobject\u001b[0m\u001b[0;34m.\u001b[0m\u001b[0m__getattribute__\u001b[0m\u001b[0;34m(\u001b[0m\u001b[0mself\u001b[0m\u001b[0;34m,\u001b[0m \u001b[0mname\u001b[0m\u001b[0;34m)\u001b[0m\u001b[0;34m\u001b[0m\u001b[0m\n\u001b[0m\u001b[1;32m   3615\u001b[0m \u001b[0;34m\u001b[0m\u001b[0m\n\u001b[1;32m   3616\u001b[0m     \u001b[0;32mdef\u001b[0m \u001b[0m__setattr__\u001b[0m\u001b[0;34m(\u001b[0m\u001b[0mself\u001b[0m\u001b[0;34m,\u001b[0m \u001b[0mname\u001b[0m\u001b[0;34m,\u001b[0m \u001b[0mvalue\u001b[0m\u001b[0;34m)\u001b[0m\u001b[0;34m:\u001b[0m\u001b[0;34m\u001b[0m\u001b[0m\n",
      "\u001b[0;31mAttributeError\u001b[0m: 'DataFrame' object has no attribute 'anomaly_gaussian'"
     ]
    }
   ],
   "source": [
    "# insert prediction to original data frame\n",
    "# merge data frames\n",
    "df = df.merge(df_mod[['row_id', 'anomaly_lof']], on='row_id', how ='left')"
   ]
  },
  {
   "cell_type": "code",
   "execution_count": 89,
   "metadata": {},
   "outputs": [],
   "source": [
    "# assign 1 to null values which are the one which we exlcluded in df_mod\n",
    "df.loc[df.anomaly_lof.isnull(), \"anomaly_lof\"] = 1\n",
    "\n",
    "# transform to integer\n",
    "df['anomaly_lof'] = df.anomaly_lof.astype(int)"
   ]
  },
  {
   "cell_type": "markdown",
   "metadata": {},
   "source": [
    "## 8.2 Isolation Forest"
   ]
  },
  {
   "cell_type": "code",
   "execution_count": null,
   "metadata": {},
   "outputs": [],
   "source": [
    "df_mod = df.copy()\n",
    "df_mod = df_mod[df_mod['anomaly'] == 0]"
   ]
  },
  {
   "cell_type": "code",
   "execution_count": null,
   "metadata": {},
   "outputs": [],
   "source": [
    "df_mod = df.loc[['city_code','star_rating','price_per_night', 'row_id']]\n",
    "df_mod = pd.get_dummies(df_mod)\n",
    "df_mod.head()\n",
    "\n",
    "if_model = IsolationForest(max_samples = 100, verbose = 1, contamination = outliers_fraction)\n",
    "if_model.fit(df_mod.loc[:, df.columns != 'row_id'])\n",
    "y_pred = lof_model.fit_predict(df_mod)\n",
    "df_mod['anomaly_if'] = y_pred\n",
    "df_mod['anomaly_if'] = df_mod['anomaly_if'].map( {1: 0, -1: 1} )\n",
    "\n",
    "df_mod['anomaly_if'].value_counts()"
   ]
  },
  {
   "cell_type": "markdown",
   "metadata": {},
   "source": [
    "#### Model Summary"
   ]
  },
  {
   "cell_type": "code",
   "execution_count": 88,
   "metadata": {
    "scrolled": true
   },
   "outputs": [
    {
     "data": {
      "text/plain": [
       "anomaly_gaussian_star_rating\n",
       "0    897312\n",
       "1      2011\n",
       "Name: id_hkey, dtype: int64"
      ]
     },
     "execution_count": 88,
     "metadata": {},
     "output_type": "execute_result"
    }
   ],
   "source": [
    "# show number of anomalies\n",
    "df_mod['anomaly_if'].value_counts()"
   ]
  },
  {
   "cell_type": "code",
   "execution_count": 67,
   "metadata": {
    "scrolled": true
   },
   "outputs": [
    {
     "ename": "AttributeError",
     "evalue": "'DataFrame' object has no attribute 'anomaly_gaussian'",
     "output_type": "error",
     "traceback": [
      "\u001b[0;31m---------------------------------------------------------------------------\u001b[0m",
      "\u001b[0;31mAttributeError\u001b[0m                            Traceback (most recent call last)",
      "\u001b[0;32m<ipython-input-67-81592f09dfdd>\u001b[0m in \u001b[0;36m<module>\u001b[0;34m()\u001b[0m\n\u001b[1;32m      4\u001b[0m \u001b[0;34m\u001b[0m\u001b[0m\n\u001b[1;32m      5\u001b[0m \u001b[0;31m# assign 1 to null values which are the one which we exlcluded in df_mod\u001b[0m\u001b[0;34m\u001b[0m\u001b[0;34m\u001b[0m\u001b[0m\n\u001b[0;32m----> 6\u001b[0;31m \u001b[0mdf\u001b[0m\u001b[0;34m.\u001b[0m\u001b[0mloc\u001b[0m\u001b[0;34m[\u001b[0m\u001b[0mdf\u001b[0m\u001b[0;34m.\u001b[0m\u001b[0manomaly_gaussian\u001b[0m\u001b[0;34m.\u001b[0m\u001b[0misnull\u001b[0m\u001b[0;34m(\u001b[0m\u001b[0;34m)\u001b[0m\u001b[0;34m,\u001b[0m \u001b[0;34m\"anomaly_gaussian\"\u001b[0m\u001b[0;34m]\u001b[0m \u001b[0;34m=\u001b[0m \u001b[0;36m1\u001b[0m\u001b[0;34m\u001b[0m\u001b[0m\n\u001b[0m\u001b[1;32m      7\u001b[0m \u001b[0;34m\u001b[0m\u001b[0m\n\u001b[1;32m      8\u001b[0m \u001b[0;31m# transform to integer\u001b[0m\u001b[0;34m\u001b[0m\u001b[0;34m\u001b[0m\u001b[0m\n",
      "\u001b[0;32m~/anaconda3/lib/python3.6/site-packages/pandas/core/generic.py\u001b[0m in \u001b[0;36m__getattr__\u001b[0;34m(self, name)\u001b[0m\n\u001b[1;32m   3612\u001b[0m             \u001b[0;32mif\u001b[0m \u001b[0mname\u001b[0m \u001b[0;32min\u001b[0m \u001b[0mself\u001b[0m\u001b[0;34m.\u001b[0m\u001b[0m_info_axis\u001b[0m\u001b[0;34m:\u001b[0m\u001b[0;34m\u001b[0m\u001b[0m\n\u001b[1;32m   3613\u001b[0m                 \u001b[0;32mreturn\u001b[0m \u001b[0mself\u001b[0m\u001b[0;34m[\u001b[0m\u001b[0mname\u001b[0m\u001b[0;34m]\u001b[0m\u001b[0;34m\u001b[0m\u001b[0m\n\u001b[0;32m-> 3614\u001b[0;31m             \u001b[0;32mreturn\u001b[0m \u001b[0mobject\u001b[0m\u001b[0;34m.\u001b[0m\u001b[0m__getattribute__\u001b[0m\u001b[0;34m(\u001b[0m\u001b[0mself\u001b[0m\u001b[0;34m,\u001b[0m \u001b[0mname\u001b[0m\u001b[0;34m)\u001b[0m\u001b[0;34m\u001b[0m\u001b[0m\n\u001b[0m\u001b[1;32m   3615\u001b[0m \u001b[0;34m\u001b[0m\u001b[0m\n\u001b[1;32m   3616\u001b[0m     \u001b[0;32mdef\u001b[0m \u001b[0m__setattr__\u001b[0m\u001b[0;34m(\u001b[0m\u001b[0mself\u001b[0m\u001b[0;34m,\u001b[0m \u001b[0mname\u001b[0m\u001b[0;34m,\u001b[0m \u001b[0mvalue\u001b[0m\u001b[0;34m)\u001b[0m\u001b[0;34m:\u001b[0m\u001b[0;34m\u001b[0m\u001b[0m\n",
      "\u001b[0;31mAttributeError\u001b[0m: 'DataFrame' object has no attribute 'anomaly_gaussian'"
     ]
    }
   ],
   "source": [
    "# insert prediction to original data frame\n",
    "# merge data frames\n",
    "df = df.merge(df_mod[['row_id', 'anomaly_if']], on='row_id', how ='left')"
   ]
  },
  {
   "cell_type": "code",
   "execution_count": 89,
   "metadata": {},
   "outputs": [],
   "source": [
    "# assign 1 to null values which are the one which we exlcluded in df_mod\n",
    "df.loc[df.anomaly_if.isnull(), \"anomaly_if\"] = 1\n",
    "\n",
    "# transform to integer\n",
    "df['anomaly_if'] = df.anomaly_if.astype(int)"
   ]
  },
  {
   "cell_type": "markdown",
   "metadata": {},
   "source": [
    "## 8.3 Clustering"
   ]
  },
  {
   "cell_type": "code",
   "execution_count": null,
   "metadata": {},
   "outputs": [],
   "source": [
    "df_mod = df.copy()\n",
    "df_mod = df_mod[df_mod['anomaly'] == 0]"
   ]
  },
  {
   "cell_type": "code",
   "execution_count": null,
   "metadata": {},
   "outputs": [],
   "source": [
    "# City Code to Category\n",
    "df['city_code'] = df['city_code'].map({0: 'city_0', 1: 'city_1',\n",
    "                    2: 'city_2', 3: 'city_3', 4: 'city_4',\n",
    "                    5: 'city_5', 6: 'city_6', 7: 'city_7',\n",
    "                    8: 'city_8'})"
   ]
  },
  {
   "cell_type": "code",
   "execution_count": null,
   "metadata": {},
   "outputs": [],
   "source": [
    "df_mod = df[df['anomaly'] == 0]"
   ]
  },
  {
   "cell_type": "code",
   "execution_count": null,
   "metadata": {},
   "outputs": [],
   "source": [
    "# An estimation of anomly population of the dataset (necessary for several algorithm)\n",
    "outliers_fraction = 0.00223"
   ]
  },
  {
   "cell_type": "code",
   "execution_count": null,
   "metadata": {},
   "outputs": [],
   "source": [
    "df_mod.head()"
   ]
  },
  {
   "cell_type": "code",
   "execution_count": null,
   "metadata": {},
   "outputs": [],
   "source": [
    "#Encode Useful Data\n",
    "df_mod = df_mod.drop(columns = ['hotel_hkey', 'id_hkey', 'contract_id_hkey', 'category_room', 'contract_type','arrival_date','creation_date','departure_date'])\n",
    "\n",
    "#Hot Encode Useful Columns\n",
    "#get dummies\n",
    "\n",
    "df_mod= pd.get_dummies(df_mod)"
   ]
  },
  {
   "cell_type": "code",
   "execution_count": null,
   "metadata": {},
   "outputs": [],
   "source": [
    "#test sample\n",
    "#df= df.sample(n=100000) \n",
    "columns= df_mod.columns.values\n",
    "columns"
   ]
  },
  {
   "cell_type": "code",
   "execution_count": null,
   "metadata": {},
   "outputs": [],
   "source": [
    "data = df_mod[['total_cost', 'trip_duration', 'booking_lag',\n",
    "       'price_per_night', 'weekend_trip',\n",
    "       'time_epoch', 'city_code_city_0', 'city_code_city_1',\n",
    "       'city_code_city_2', 'city_code_city_3', 'city_code_city_4',\n",
    "       'city_code_city_5', 'city_code_city_6', 'city_code_city_7',\n",
    "       'city_code_city_8', 'room_type_APT', 'room_type_BED',\n",
    "       'star_rating_1',\n",
    "       'star_rating_2', 'star_rating_3', 'star_rating_4', 'star_rating_5',\n",
    "       'star_rating_APARTHOTEL', 'star_rating_APARTMENT',\n",
    "       'star_rating_BED', 'star_rating_BOARDING', 'star_rating_BOUTIQUE',\n",
    "       'star_rating_GUEST', 'star_rating_HOSTEL', 'star_rating_PENDING',\n",
    "       'star_rating_POUSADA', 'star_rating_RESIDENCE',\n",
    "       'star_rating_RESORT', 'star_rating_RURAL', 'star_rating_STANDARD',\n",
    "       'star_rating_SUPERIOR', 'star_rating_VACATIONALS',\n",
    "       'star_rating_VILLA', 'star_rating_WITHOUT', 'creation_date_day_name_Friday', 'creation_date_day_name_Monday',\n",
    "       'creation_date_day_name_Saturday', 'creation_date_day_name_Sunday',\n",
    "       'creation_date_day_name_Thursday',\n",
    "       'creation_date_day_name_Tuesday',\n",
    "       'creation_date_day_name_Wednesday']]"
   ]
  },
  {
   "cell_type": "code",
   "execution_count": null,
   "metadata": {},
   "outputs": [],
   "source": [
    "min_max_scaler = preprocessing.StandardScaler()\n",
    "np_scaled = min_max_scaler.fit_transform(data)\n",
    "data = pd.DataFrame(np_scaled)\n",
    "# reduce to 2 importants features\n",
    "pca = PCA(n_components=2)\n",
    "data = pca.fit_transform(data)\n",
    "#standardize these 2 new features\n",
    "min_max_scaler = preprocessing.StandardScaler()\n",
    "np_scaled = min_max_scaler.fit_transform(data)\n",
    "data = pd.DataFrame(np_scaled)"
   ]
  },
  {
   "cell_type": "code",
   "execution_count": null,
   "metadata": {},
   "outputs": [],
   "source": [
    "# calculate with different number of centroids to see the loss plot (elbow method)\n",
    "n_cluster = range(18, 30)\n",
    "kmeans = [KMeans(n_clusters=i, n_jobs = -1).fit(data) for i in n_cluster]\n",
    "scores = [kmeans[i].score(data) for i in range(len(kmeans))]\n",
    "fig, ax = plt.subplots()\n",
    "ax.plot(n_cluster, scores)\n",
    "plt.show()"
   ]
  },
  {
   "cell_type": "code",
   "execution_count": null,
   "metadata": {},
   "outputs": [],
   "source": [
    "# Not clear for me, I choose 10 centroids arbitrarily and add these data to the central dataframe\n",
    "df_mod['cluster'] = kmeans[30].predict(data)\n",
    "\n",
    "#Extracting principal_feature vector to attach to dataframe\n",
    "\n",
    "principal_feature1 = pd.DataFrame(data[0])\n",
    "principal_feature2 = pd.DataFrame(data[1])\n",
    "\n",
    "#match index for sample\n",
    "new_row_id = df_mod.row_id.reset_index()\n",
    "new_row_id = new_row_id.drop(columns = ['index'])\n",
    "\n",
    "principal_feature1['index'] = new_row_id\n",
    "\n",
    "principal_feature2['index'] = new_row_id\n",
    "\n",
    "#merge principal_feature1\n",
    "df_mod = df_mod.merge(principal_feature1, left_on='row_id', right_on='index', how ='outer')\n",
    "df_mod = df_mod.rename(columns={0:'principal_feature1'})\n",
    "###drop index\n",
    "df_mod = df_mod.drop(columns=['index'])\n",
    "\n",
    "#merge principal_feature2\n",
    "df_mod = df_mod.merge(principal_feature2, left_on='row_id', right_on='index', how ='outer')\n",
    "df_mod = df_mod.rename(columns={1:'principal_feature2'})\n",
    "\n",
    "#drop index\n",
    "df_mod = df_mod.drop(columns=['index'])\n",
    "\n",
    "#Count observations per cluster\n",
    "df_mod['cluster'].value_counts()"
   ]
  },
  {
   "cell_type": "code",
   "execution_count": null,
   "metadata": {},
   "outputs": [],
   "source": [
    "#plot the different clusters with the 2 main features\n",
    "fig, ax = plt.subplots()\n",
    "#colors = {0:'red', 1:'blue', 2:'green', 3:'pink', 4:'black', 5:'orange', 6:'cyan', 7:'yellow', 8:'brown', 9:'purple', 10:'white', 11: 'grey', 12:'lightblue', 13:'lightgreen', 14: 'darkgrey', 15: 'magenta'}\n",
    "#colors = {0:'red', 1:'blue', 2:'green', 3:'pink', 4:'black', 5:'orange', 6:'cyan', 7:'yellow', 8:'brown'}\n",
    "colors = {0:'red', 1:'blue', 2:'green', 3:'pink', 4:'black', 5:'orange', 6:'cyan', 7:'yellow', 8:'brown', 9:'purple', 10:'white'}\n",
    "ax.scatter(df_mod['principal_feature1'], df_mod['principal_feature2'], c=df_mod[\"cluster\"].apply(lambda x: colors[x]))\n",
    "#ax.scatter(df1['price_per_night'], df1['booking_lag'], c=df1[\"cluster\"].apply(lambda x: colors[x]))\n",
    "plt.show()"
   ]
  },
  {
   "cell_type": "code",
   "execution_count": null,
   "metadata": {},
   "outputs": [],
   "source": [
    "#plot the different clusters with the 2 main features\n",
    "fig, ax = plt.subplots()\n",
    "#colors = {0:'red', 1:'blue', 2:'green', 3:'pink', 4:'black', 5:'orange', 6:'cyan', 7:'yellow', 8:'brown', 9:'purple', 10:'white', 11: 'grey', 12:'lightblue', 13:'lightgreen', 14: 'darkgrey', 15: 'magenta'}\n",
    "#colors = {0:'red', 1:'blue', 2:'green', 3:'pink', 4:'black', 5:'orange', 6:'cyan', 7:'yellow', 8:'brown',9:'purple'}\n",
    "colors = {0:'red', 1:'blue', 2:'green', 3:'pink', 4:'black', 5:'orange', 6:'cyan', 7:'yellow', 8:'brown', 9:'purple', 10:'white'}\n",
    "ax.scatter(df_mod['booking_lag'], df_mod['price_per_night'], c=df_mod[\"cluster\"].apply(lambda x: colors[x]))\n",
    "#ax.scatter(df1['price_per_night'], df1['booking_lag'], c=df1[\"cluster\"].apply(lambda x: colors[x]))\n",
    "plt.show()"
   ]
  },
  {
   "cell_type": "code",
   "execution_count": null,
   "metadata": {},
   "outputs": [],
   "source": [
    "# get the distance between each point and its nearest centroid. The biggest distances are considered as anomaly\n",
    "distance = getDistanceByPoint(data, kmeans[9])\n",
    "\n",
    "number_of_outliers = int(outliers_fraction*len(distance))\n",
    "\n",
    "threshold = distance.nlargest(number_of_outliers).min()\n",
    "\n",
    "# anomaly21 contain the anomaly result of method 2.1 Cluster (0:normal, 1:anomaly) \n",
    "#df['anomaly21']= (distance >= threshold).astype(int)\n",
    "anomaly_cluster = pd.DataFrame((distance >= threshold).astype(int))\n"
   ]
  },
  {
   "cell_type": "code",
   "execution_count": null,
   "metadata": {},
   "outputs": [],
   "source": [
    "#attach the target to the df\n",
    "\n",
    "#match index for sample\n",
    "new_row_id = df_mod.row_id.reset_index()\n",
    "new_row_id = new_row_id.drop(columns = ['index'])\n",
    "\n",
    "anomaly_cluster['index'] = new_row_id\n",
    "\n",
    "#merge anomaly21\n",
    "df_mod = df_mod.merge(anomaly_cluster, left_on='row_id', right_on='index', how ='outer')\n",
    "\n",
    "df_mod = df_mod.rename(columns={0:'anomaly_cluster'})\n",
    "\n",
    "#drop customer id\n",
    "df_mod = df_mod.drop(columns=['index'])"
   ]
  },
  {
   "cell_type": "code",
   "execution_count": null,
   "metadata": {},
   "outputs": [],
   "source": [
    "# visualisation of anomaly with cluster view\n",
    "fig, ax = plt.subplots()\n",
    "colors = {0:'blue', 1:'red'}\n",
    "ax.scatter(df_mod['principal_feature1'], df_mod['principal_feature2'], c=df_mod[\"anomaly21\"].apply(lambda x: colors[x]))\n",
    "#ax.scatter(df['price_per_night'], df['booking_lag'], c=df[\"anomaly21\"].apply(lambda x: colors[x]))\n",
    "plt.show()"
   ]
  },
  {
   "cell_type": "code",
   "execution_count": null,
   "metadata": {},
   "outputs": [],
   "source": [
    "# visualisation of anomaly with temperature repartition (viz 2)\n",
    "a = df_mod.loc[df_mod['anomaly_cluster'] == 0, 'price_per_night']\n",
    "b = df_mod.loc[df_mod['anomaly_cluster'] == 1, 'price_per_night']\n",
    "\n",
    "fig, axs = plt.subplots()\n",
    "axs.hist([a,b], bins=32, stacked=True, color=['blue', 'red'], label=['normal', 'anomaly'])\n",
    "plt.legend()\n",
    "plt.show()"
   ]
  },
  {
   "cell_type": "markdown",
   "metadata": {},
   "source": [
    "df_mod[df_mod['anomaly_cluster'] == 1]['row_id'].count()"
   ]
  }
 ],
 "metadata": {
  "kernelspec": {
   "display_name": "Python 3",
   "language": "python",
   "name": "python3"
  },
  "language_info": {
   "codemirror_mode": {
    "name": "ipython",
    "version": 3
   },
   "file_extension": ".py",
   "mimetype": "text/x-python",
   "name": "python",
   "nbconvert_exporter": "python",
   "pygments_lexer": "ipython3",
   "version": "3.6.4"
  }
 },
 "nbformat": 4,
 "nbformat_minor": 2
}
